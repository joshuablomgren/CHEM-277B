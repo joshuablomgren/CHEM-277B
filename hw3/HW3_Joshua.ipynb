{
 "cells": [
  {
   "cell_type": "code",
   "execution_count": 1,
   "id": "184b0a58",
   "metadata": {},
   "outputs": [],
   "source": [
    "import numpy as np"
   ]
  },
  {
   "cell_type": "markdown",
   "id": "39bfc55f",
   "metadata": {},
   "source": [
    "# CHEM 277B: Homework 3 - Meta-Heuristic Algorithms #"
   ]
  },
  {
   "cell_type": "markdown",
   "id": "3927bd7c",
   "metadata": {},
   "source": [
    "## 1. Genetic Algorithms ##\n",
    "\n",
    "Use GA to determine the maximum of the solution  $𝑓(𝑥)=−𝑥^2+8𝑥+15  $\n",
    "over the discrete range of 𝑥-values: [0,15], where 𝑓(𝑥) is the fitness function. Consider the following two possible encodings.  \n",
    "\n",
    "<img src=\"Figures/Encodings.png\" width=\"500\" height=\"500\">\n",
    "\n",
    "**(a)** List  all  good  solutions  as  those  with $ 𝑓(𝑥)>27$,  and  write  out  individual  solutions  for  each encodings. Define schema by looking for perfect conservation along each column; if perfect conservation holds, give that value for that position, else represent that column with a *. What is length and order of the two schema? Which encoding will you choose?"
   ]
  },
  {
   "cell_type": "markdown",
   "id": "ddfe1089",
   "metadata": {},
   "source": [
    "<h4><center>Encoding A</center></h4>\n",
    "\n",
    "| Solution | Fitness | Vector |\n",
    "|----------|---------|--------|\n",
    "| 3        | 30      | 1000   |\n",
    "| 4        | 31      | 0010   |\n",
    "| 5        | 30      | 0001   |\n",
    "\n",
    "<h4><center>Encoding B</center></h4>\n",
    "\n",
    "| Solution | Fitness | Vector |\n",
    "|----------|---------|--------|\n",
    "| 3        | 30      | 1101   |\n",
    "| 4        | 31      | 1011   |\n",
    "| 5        | 30      | 1111   |\n",
    "\n",
    "\n",
    "<br> \n",
    "<h4><center>Schema</center></h4>\n",
    "\n",
    "| Schema | Order | Length |\n",
    "|----------|---------|--------|\n",
    "| $*0**$   | 1     | 0  |\n",
    "| $1**1$   | 2      | 3 |\n",
    "\n",
    "<br>\n",
    "\n",
    "<h4><center>I will choose encoding A.<center></h4>"
   ]
  },
  {
   "cell_type": "markdown",
   "id": "c6833e52",
   "metadata": {},
   "source": [
    "**(b)** Assume we draw candidate solutions $𝑥 =10, 𝑥 =1, 𝑥 =15, 𝑥 =6, 𝑥 =0, 𝑥 =9$ as our initial \n",
    "population for GA optimization. Using your chosen encoding, list encoded solutions and their fitness. Pair \n",
    "the population so that the fittest members are paired with the least fit.  "
   ]
  },
  {
   "cell_type": "markdown",
   "id": "14917da5",
   "metadata": {},
   "source": [
    "<h4><center>Encoding A: </center></h4>\n",
    "\n",
    "| Pair  | Solution | Fitness | Vector | \n",
    "|-------|----------|---------|--------|\n",
    "|  A   | 6        | 27       | 0000   | \n",
    "|  A   | 15       | -90      | 1111   |\n",
    "|  B   | 1        | 22      | 0011    | \n",
    "|  B   | 10       | -5       | 0101   |\n",
    "|  C   | 0        | 15      | 1011   |  \n",
    "|  C   | 9       | 6        | 1100   |\n",
    "\n",
    "<br>\n"
   ]
  },
  {
   "cell_type": "markdown",
   "id": "45b3d2a2",
   "metadata": {},
   "source": [
    "**(c)**  Use  the  cross-over  operator  by  defining  the  cross-over  point  between  the  1st  and  2nd  element. \n",
    "Exchange the last three elements between the pairs of strings. Do we have new solutions, and if so, what is \n",
    "their fitness? Have we increased fitness of population as a whole? What is the best solution? "
   ]
  },
  {
   "cell_type": "markdown",
   "id": "633cd8fe",
   "metadata": {},
   "source": [
    "<h4><center>Cross-over Between 1st and 2nd elements of Same Pair </center></h4>\n",
    "\n",
    "\n",
    "| Pair  | Old Solution | Old Fitness | Old Vector | New Vector | New Solution | New Fitness |\n",
    "|-------|----------|---------|--------|---------|--------|---------|\n",
    "|  A   | 6        | 27       | 0000   | 0111 | 12  | -33 |\n",
    "|  A   | 15       | -90      | 1111   | 1000 | 3   | 30  |\n",
    "|  B   | 1        | 22      | 0011    | 0101 | 10  | -5  |\n",
    "|  B   | 10       | -5       | 0101   | 0011 | 1   | 22  |\n",
    "|  C   | 0        | 15      | 1011   | 1100 | 9 | 6 |\n",
    "|  C   | 9       | 6        | 1100   | 1011 | 0 | 15 |"
   ]
  },
  {
   "cell_type": "markdown",
   "id": "7c8bd891",
   "metadata": {},
   "source": [
    "<h4><center>New solutions </center></h4>\n",
    "\n",
    "| Vector | Solution | Fitness |\n",
    "|--------|----------|---------|\n",
    "| 0111   |  12      | -33    |\n",
    "| 1000   |  3       | 30     |"
   ]
  },
  {
   "cell_type": "code",
   "execution_count": 2,
   "id": "d883716d",
   "metadata": {
    "scrolled": true
   },
   "outputs": [
    {
     "name": "stdout",
     "output_type": "stream",
     "text": [
      "old = -4.166666666666667\n",
      "new = 5.833333333333333\n"
     ]
    }
   ],
   "source": [
    "print(f'old = {np.mean([27, -90, 22, -5, 15, 6])}')\n",
    "print(f'new = {np.mean([-33, 30, -5, 22, 6, 15])}')"
   ]
  },
  {
   "cell_type": "markdown",
   "id": "58555a3c",
   "metadata": {},
   "source": [
    "#### We have increased our average fitness from -4.17 to 5.83. The best solution is from new vector 1000 ( solution 3: fitness 30 ). ####\n",
    "\n",
    "<br>\n",
    "<br>"
   ]
  },
  {
   "cell_type": "markdown",
   "id": "b143224a",
   "metadata": {},
   "source": [
    "**(d)** Using population generated in (c), mutate 3rd element. Do we have new solutions, and if so, what \n",
    "are their fitness? Does mutation increase fitness of population as a whole? Did we find a better solution? "
   ]
  },
  {
   "cell_type": "markdown",
   "id": "7b3c43e9",
   "metadata": {},
   "source": [
    "<h4><center>Mutate 3rd Element </center></h4>\n",
    "\n",
    "\n",
    "| Pair  | Old Vector | Old Solution | Old Fitness | New Vector | New Solution | New Fitness |\n",
    "|-------|----------|---------|--------|---------|--------|---------|\n",
    "|  A   | 0111 | 12  | -33 | 0101 | 10 | -5 |\n",
    "|  A   |  1000 | 3   | 30  | 1010 | 7 | 22 |\n",
    "|  B   |  0101 | 10  | -5  | 0111 | 12 | -33 |\n",
    "|  B   |  0011 | 1   | 22  | 0001 | 5 | 30 |\n",
    "|  C   |  1100 | 9 | 6 | 1110 | 14 | -69 |\n",
    "|  C   |  1011 | 0 | 15 | 1001 | 2 | 27 |"
   ]
  },
  {
   "cell_type": "markdown",
   "id": "6d7dab39",
   "metadata": {},
   "source": [
    "<h4><center>New solutions </center></h4>\n",
    "\n",
    "| Vector | Solution | Fitness |\n",
    "|--------|----------|---------|\n",
    "| 1010   |  7      | 22    |\n",
    "| 0001   |  5       | 30     |\n",
    "| 1110   |  14       | -69     |\n",
    "| 1001   |  2       | 27     |"
   ]
  },
  {
   "cell_type": "code",
   "execution_count": 3,
   "id": "45b37675",
   "metadata": {},
   "outputs": [
    {
     "name": "stdout",
     "output_type": "stream",
     "text": [
      "old = 5.833333333333333\n",
      "new = -4.666666666666667\n"
     ]
    }
   ],
   "source": [
    "print(f'old = {np.mean([-33, 30, -5, 22, 6, 15])}')\n",
    "print(f'new = {np.mean([-5, 22, -33, 30, -69, 27])}')"
   ]
  },
  {
   "cell_type": "markdown",
   "id": "adda8d5a",
   "metadata": {},
   "source": [
    "**The overall fitness decreased and a better solution was not found compared to the original population.**\n",
    "\n",
    "<br>\n",
    "<br>"
   ]
  },
  {
   "cell_type": "markdown",
   "id": "43743324",
   "metadata": {},
   "source": [
    "**e)** Using  population  generated  in  (d),  eliminate  least  fit  member,  and  replace  with  cloned  best \n",
    "member. Do 2-point cross-over by exchanging inner two elements between pairs. Do we have new solutions \n",
    "and  what  are  their  fitness?  Have  we  increased  fitness  of  population  as  a  whole?  Did  we  find  a  better \n",
    "solution? "
   ]
  },
  {
   "cell_type": "markdown",
   "id": "a9b40cca",
   "metadata": {},
   "source": [
    "<h4><center> Replace least fit member with cloned best member </center></h4>\n",
    "\n",
    "\n",
    "\n",
    "| Pair | Vector | Solution | Fitness |\n",
    "|----|----|----------|---------|\n",
    "| A |0101 | 10 | -5 |\n",
    "| A |1010   |  7      | 22    |\n",
    "| B |0111 | 12 | -33 |\n",
    "| B |0001   |  5       | 30     |\n",
    "| C |~1110~ 0001  |  ~14~ 5  | ~-69~ 30     |\n",
    "| C |1001   |  2       | 27     |\n",
    "\n",
    "\n",
    "<h4><center> 2-Point Cross-Over of Inner Two Elements of Pair </center></h4>\n",
    "\n",
    "| Pair  | Old Vector | Old Solution | Old Fitness | New Vector | New Solution | New Fitness |\n",
    "|-------|----------|---------|--------|---------|--------|---------|\n",
    "|  A   | 0101 | 10 | -5 | 0011 | 1 | 22 | \n",
    "|  A   |   1010 | 7 | 22 | 1100 | 9 | 6 |\n",
    "|  B   |  0111 | 12 | -33 | 0001 | 5 | 30 |\n",
    "|  B   |   0001 | 5 | 30 | 0111 | 12 | -33 |\n",
    "|  C   |   0001 | 5 | 30 | 0001 | 5 | 30 |\n",
    "|  C   |   1001 | 2 | 27 | 1001 | 2 | 27 |\n"
   ]
  },
  {
   "cell_type": "code",
   "execution_count": 4,
   "id": "24aae752",
   "metadata": {},
   "outputs": [
    {
     "name": "stdout",
     "output_type": "stream",
     "text": [
      "old = -4.666666666666667\n",
      "new = 13.666666666666666\n"
     ]
    }
   ],
   "source": [
    "print(f'old = {np.mean([-5, 22, -33, 30, -69, 27])}')\n",
    "print(f'new = {np.mean([22, 6, 30, -33, 30, 27])}')"
   ]
  },
  {
   "cell_type": "markdown",
   "id": "a270eff4",
   "metadata": {},
   "source": [
    "**The average fitness of the population increased to 13.67. The best solution is still 5, so a solution with better fitness was not found.**"
   ]
  },
  {
   "cell_type": "markdown",
   "id": "4e7301d2",
   "metadata": {},
   "source": [
    "**(f)** Using population generated in (e), eliminate least fit member, and replace with cloned best member. \n",
    "Do cross-over between 3rd and 4th elements and exchange first three elements between pairs. Do we have \n",
    "new solutions, and what are their fitness? Have we increased the fitness of population as a whole? Did we \n",
    "find a better solution? "
   ]
  },
  {
   "cell_type": "markdown",
   "id": "88e8a29d",
   "metadata": {},
   "source": [
    "<h4><center> Replace least fit member with cloned best member </center></h4>\n",
    "\n",
    "\n",
    "\n",
    "| Pair | Vector | Solution | Fitness |\n",
    "|----|----|----------|---------|\n",
    "|  A   | 0011 | 1 | 22 | \n",
    "|  A  | 1100 | 9 | 6 |\n",
    "|  B   |   0001 | 5 | 30 |\n",
    "|  B   |   ~0111~ 0001 | ~12~ 5 | ~-33~ 30 |\n",
    "|  C   |   0001 | 5 | 30 |\n",
    "|  C   |   1001 | 2 | 27 |\n",
    "\n",
    "<h4><center> Cross-over Between 3rd and 4th Elements </center></h4>\n",
    "\n",
    "| Pair  | Old Vector | Old Solution | Old Fitness | New Vector | New Solution | New Fitness |\n",
    "|-------|----------|---------|--------|---------|--------|---------|\n",
    "|  A   | 0011 | 1 | 22 | 1101 | 13 | -50 |\n",
    "|  A  | 1100 | 9 | 6 | 0010 | 4 | 31 |\n",
    "|  B   |   0001 | 5 | 30 | 0001 | 5 | 30 |\n",
    "|  B   |   0001 |  5 | 30 | 0001 | 5 | 30 |\n",
    "|  C   |   0001 | 5 | 30 | 1001 | 2 | 27 |\n",
    "|  C   |   1001 | 2 | 27 | 0001 | 5 | 30 |\n",
    "\n",
    "<h4><center>New solutions </center></h4>\n",
    "\n",
    "| Vector | Solution | Fitness |\n",
    "|--------|----------|---------|\n",
    "| 1101 | 13 | -50|\n",
    "| 0010 | 4 | 31 |"
   ]
  },
  {
   "cell_type": "code",
   "execution_count": 5,
   "id": "499673a1",
   "metadata": {},
   "outputs": [
    {
     "name": "stdout",
     "output_type": "stream",
     "text": [
      "old = 13.666666666666666\n",
      "new = 16.333333333333332\n"
     ]
    }
   ],
   "source": [
    "print(f'old = {np.mean([22, 6, 30, -33, 30, 27])}')\n",
    "print(f'new = {np.mean([-50, 31, 30, 30, 27, 30])}')"
   ]
  },
  {
   "cell_type": "markdown",
   "id": "1b9d8322",
   "metadata": {},
   "source": [
    "**The fitness of the population increased as a whole, and a better solution was found. Solution 4 has a fitness of 31, the highest fitness of all of the solutions.**\n",
    "<br>\n",
    "<br>"
   ]
  },
  {
   "cell_type": "markdown",
   "id": "fe8bc502",
   "metadata": {},
   "source": [
    "**(g)** Do you think that the encoding of the solution space was adequate? Why? "
   ]
  },
  {
   "cell_type": "markdown",
   "id": "f5ed9a5c",
   "metadata": {},
   "source": [
    "I think Encoding A is adequate because it increased the average fitness of the group after most of the genetic changes (cross-over and mutation), and was eventually able to produce the true maximum which was 31, solution 4. "
   ]
  },
  {
   "cell_type": "markdown",
   "id": "7ccae407",
   "metadata": {},
   "source": [
    "## 2. Artificial Neural Networks "
   ]
  },
  {
   "cell_type": "markdown",
   "id": "a363124f",
   "metadata": {},
   "source": [
    "In  lecture  we  saw  that  ANN  can  be  used  for  secondary  structure \n",
    "prediction of alpha-helix, beta-sheet, or random coil given the amino acid sequence as input. Each amino \n",
    "acid  is  represented  by  two  numbers,  the  first  representing  its  propensity  to  be  hydrophobic  (+1)  or \n",
    "hydrophilic (-1), while the second is its propensity to form helix (+1) or not helix (-1). A helix is predicted \n",
    "by the network if the output is (1,-1), $\\beta$−sheet if output is (-1,1), and coil if (-1,-1). We could design two \n",
    "simple Boolean functions as part of a bigger network with the following connectivity: \n",
    "\n",
    "<img src=\"Figures/Neural_Network.png\" width=\"400\" height=\"400\">\n",
    "\n",
    "Please code up your own little neural network using NumPy! If you choose to do it with code, to make \n",
    "life easier you can also treat this architecture as a fully connected network of shape (6,2,2).  "
   ]
  },
  {
   "cell_type": "markdown",
   "id": "fd9e88ea",
   "metadata": {},
   "source": [
    "**(a)** Initialize the weights to random values between 0 and 1.0 "
   ]
  },
  {
   "cell_type": "code",
   "execution_count": 6,
   "id": "d097e2c8",
   "metadata": {},
   "outputs": [],
   "source": [
    "# Neural Network Class \n",
    "class NN():\n",
    "    def __init__(self, architecture, learning_rate, activation):\n",
    "        # initialize the model\n",
    "        self.arch = architecture # architecture of the network\n",
    "        self.activation = activation # activation functions\n",
    "        self.learning_rate = learning_rate\n",
    "        self.depth = len(self.arch) # depth of the network\n",
    "\n",
    "\n",
    "    # initialize the weights and biases\n",
    "    def init_weights(self):\n",
    "        self.weights = []\n",
    "        self.biases = []\n",
    "        for i in range(self.depth - 1):\n",
    "            prev_layer = self.arch[i]\n",
    "            current_layer = self.arch[i + 1]\n",
    "            self.weights.append(np.random.rand(prev_layer, current_layer))\n",
    "            self.biases.append(np.random.rand(current_layer))\n",
    "\n",
    "    \n",
    "    # feedforward through the network with matrix multiplication\n",
    "    def feed_forward(self, x):\n",
    "        self.z_s = []\n",
    "        self.a_s = [x]\n",
    "        for i in range(self.depth - 1):\n",
    "            z_l = self.a_s[-1].dot(self.weights[i]) + self.biases[i]\n",
    "            self.z_s.append(z_l)\n",
    "            a_l = self.activation(z_l)\n",
    "            self.a_s.append(a_l)\n",
    "        return self.a_s[-1]\n",
    "        \n",
    "    \n",
    "    # backpropagation\n",
    "    def back_prop(self):\n",
    "        for i in range(self.depth - i):\n",
    "            self.weights[i] -= self.learning_rate * self.weights_grad[i]\n",
    "            self.biases[i] -= self.learning_rate * self.biases_grad[i]\n",
    "\n",
    "    \n",
    "    # fit the model\n",
    "    def fit(self, x, y, activation_grad):\n",
    "        self.feed_forward(x)\n",
    "        self.calc_error(y, activation_grad) \n",
    "        self.calc_grad()\n",
    "        self.back_prop()\n",
    "\n",
    "    # predict the output\n",
    "    def predict(self, x):\n",
    "        return self.feed_forward(x)\n",
    "    \n",
    "    def calc_error(self, y, activation_grad):\n",
    "        # activation_grad is the gradient of the activation function\n",
    "        self.errors = [y - self.a_s[-1] * activation_grad(self.z_s[-1])]\n",
    "        \n",
    "    def calc_grad(self):\n",
    "        self.weights_grad = []\n",
    "        self.biases_grad = []\n",
    "        error = self.errors[0]\n",
    "        for i in range(self.depth - 2, -1, -1):\n",
    "            self.weights_grad.append(self.a_s[i].T.dot(error))\n",
    "            self.biases_grad.append(np.sum(error, axis=0))\n",
    "            error = error.dot(self.weights[i].T) * self.activation(self.z_s[i], derivative=True)\n",
    "        self.weights_grad.reverse()\n",
    "        self.biases_grad.reverse()"
   ]
  },
  {
   "cell_type": "code",
   "execution_count": 7,
   "id": "07cd1035",
   "metadata": {},
   "outputs": [
    {
     "data": {
      "text/plain": [
       "[array([[0.5488135 , 0.71518937],\n",
       "        [0.60276338, 0.54488318],\n",
       "        [0.4236548 , 0.64589411],\n",
       "        [0.43758721, 0.891773  ],\n",
       "        [0.96366276, 0.38344152],\n",
       "        [0.79172504, 0.52889492]]),\n",
       " array([[0.07103606, 0.0871293 ],\n",
       "        [0.0202184 , 0.83261985]])]"
      ]
     },
     "execution_count": 7,
     "metadata": {},
     "output_type": "execute_result"
    }
   ],
   "source": [
    "np.random.seed(0)\n",
    "nn = NN([6, 2, 2], 0.1, activation=np.tanh)\n",
    "nn.init_weights()\n",
    "nn.weights"
   ]
  },
  {
   "cell_type": "markdown",
   "id": "9222f7a5",
   "metadata": {},
   "source": [
    "**(b)** Given the following input values for one pattern: \n",
    "i-1=(-1,1)  i=(-1,-1)  i+4=(1,-1) "
   ]
  },
  {
   "cell_type": "code",
   "execution_count": 8,
   "id": "62455e5f",
   "metadata": {},
   "outputs": [
    {
     "data": {
      "text/plain": [
       "array([0.64027023, 0.25119984])"
      ]
     },
     "execution_count": 8,
     "metadata": {},
     "output_type": "execute_result"
    }
   ],
   "source": [
    "x = np.array([-1, 1, -1, -1, 1, -1])\n",
    "nn.predict(x)"
   ]
  },
  {
   "cell_type": "markdown",
   "id": "60b15d0c",
   "metadata": {},
   "source": [
    "**(c)** The actual observed output for this one pattern is (-1,-1). Define the error and calculate it for all \n",
    "nodes that are not in the input layer. "
   ]
  },
  {
   "cell_type": "code",
   "execution_count": 9,
   "id": "95228b07",
   "metadata": {},
   "outputs": [],
   "source": [
    "# Gradient of the activation function\n",
    "def tanh_grad(x):\n",
    "    return 1 - np.tanh(x) ** 2"
   ]
  },
  {
   "cell_type": "code",
   "execution_count": null,
   "id": "2dfa4f51",
   "metadata": {},
   "outputs": [],
   "source": [
    "nn.fit(x, np.array([[-1, -1]]), tanh_grad)"
   ]
  }
 ],
 "metadata": {
  "kernelspec": {
   "display_name": "Python 3 (ipykernel)",
   "language": "python",
   "name": "python3"
  },
  "language_info": {
   "codemirror_mode": {
    "name": "ipython",
    "version": 3
   },
   "file_extension": ".py",
   "mimetype": "text/x-python",
   "name": "python",
   "nbconvert_exporter": "python",
   "pygments_lexer": "ipython3",
   "version": "3.9.13"
  }
 },
 "nbformat": 4,
 "nbformat_minor": 5
}
