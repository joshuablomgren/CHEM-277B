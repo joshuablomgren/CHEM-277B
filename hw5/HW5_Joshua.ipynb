{
 "cells": [
  {
   "cell_type": "code",
   "execution_count": 1,
   "id": "1d255c84",
   "metadata": {},
   "outputs": [],
   "source": [
    "import pandas as pd\n",
    "import numpy as np\n",
    "import torch\n",
    "from torch import nn\n",
    "import matplotlib.pyplot as plt"
   ]
  },
  {
   "cell_type": "markdown",
   "id": "3c82e14d",
   "metadata": {},
   "source": [
    "# Chem 277B : HW5 - Statistical Models #"
   ]
  },
  {
   "cell_type": "markdown",
   "id": "c1fb4425",
   "metadata": {},
   "source": [
    "## 1. Baye’s Theorem ##"
   ]
  },
  {
   "cell_type": "markdown",
   "id": "cbc29c65",
   "metadata": {},
   "source": [
    "A chemical test is designed to indirectly determine whether the individual has a \n",
    "genetic  marker  predisposing  him/her  to  having  kidney  disease.  The  chemical  test  has  the  following \n",
    "characteristics: the probability that a randomly chosen person who has the marker (M) will test positive (i.e. \n",
    "\"marker present\") is: P[+|M] = 0.95; the probability that a randomly chosen person who does not have the \n",
    "marker will test negative is: P[-|not M] = 0.95; the proportion of people who have the marker is: P[M] = \n",
    "0.01.  "
   ]
  },
  {
   "cell_type": "markdown",
   "id": "74ee193f",
   "metadata": {},
   "source": [
    "## (a) ##\n",
    "\n",
    "#### Define the following quantities: P[-|M]; P[+|not M]; P[not M]. ####"
   ]
  },
  {
   "cell_type": "markdown",
   "id": "c4624d53",
   "metadata": {},
   "source": [
    "P[-|M]: The probability that a person who has the marker (M) will test negative. \n",
    "\n",
    "**P[-|M]** = 1 - P[+|M] = 1 - 0.95 = **0.05**\n",
    "\n",
    "<br>\n",
    "\n",
    "P[+|not M]: The probability that a person who does not have the market (M) will test positive.\n",
    "\n",
    "**P[+|not M]** = 1 - P[-|not M] = 1 - 0.95 = **0.05**\n",
    "\n",
    "<br>\n",
    "\n",
    "P[not M]: The probability that a person does not have the marker (M)\n",
    "\n",
    "**P[not M]** = 1 - P[M] = 1 - 0.01 = **0.99**\n",
    "<br>\n",
    "<br>"
   ]
  },
  {
   "cell_type": "markdown",
   "id": "0e8ed194",
   "metadata": {},
   "source": [
    "## (b) ## \n",
    "**You have had a chemical test and have tested positive; should you be alarmed? To answer this, \n",
    "find what is the chance that a randomly selected person who tests positive for the marker actually has the \n",
    "marker by using Baye’s Theorem. What feature of the given data accounts for the result?**"
   ]
  },
  {
   "cell_type": "markdown",
   "id": "4f7cad9a",
   "metadata": {},
   "source": [
    "$$ P[M|+] = \\frac{P[+|M] * P[M]}{P[+]} $$\n",
    "\n",
    "$$ P[+] = P[+|M] * P[M] + P[+|not M] * P[not M] $$\n",
    "\n",
    "$$ P[+] = 0.95 * 0.01 + 0.05 * 0.99 = 0.059 $$ \n",
    "\n",
    "$$ P[M|+] = 0.95 * 0.01 / 0.059 = 0.161 $$ \n",
    "\n",
    "\n",
    "From this we know that the chance that a randomly selected person who tests positive actually has the marker is only 16.1%. Therefore, it is not necessary to be too alarmed from the get-go."
   ]
  },
  {
   "cell_type": "markdown",
   "id": "c81e16af",
   "metadata": {},
   "source": [
    "## (c) ##\n",
    "**Suppose that frequency of marker was higher by a factor of 10, i.e. P[M] = 0.10. What is the \n",
    "chance that a randomly selected individual from this group who test positive actually has the marker?**"
   ]
  },
  {
   "cell_type": "markdown",
   "id": "b7e99d57",
   "metadata": {},
   "source": [
    "$$ P[M|+] = \\frac{P[+|M] * P[M]}{P[+]} $$\n",
    "\n",
    "$$ P[+] = P[+|M] * P[M] + P[+|not M] * P[not M] $$\n",
    "\n",
    "$$ P[+] = 0.95 * 0.10 + 0.05 * 0.90 = 0.14 $$ \n",
    "\n",
    "$$ P[M|+] = 0.95 * 0.10 / 0.14 = 0.679 $$ \n",
    "\n",
    "If the frequency of the marker was raised to be P[M] = 0.10, the chance that a randomly selected individual who tests positive actually has the marker is 67.9%. "
   ]
  },
  {
   "cell_type": "markdown",
   "id": "b4a09004",
   "metadata": {},
   "source": [
    "## 2.  Gaussian Naïve Bayes ##"
   ]
  },
  {
   "cell_type": "markdown",
   "id": "e9ca3cf1",
   "metadata": {},
   "source": [
    "In a previous homework we clustered 178 wines into 3 cultivars by solving \n",
    "the minimization of a cost function simulated annealing. We will do this again, but this time solving it with \n",
    "Naïve Bayes. To do this we will classify the wines by assigning them to the cultivar with the largest \n",
    "P(cultivar | X), and to find this we must first define a labelled data set of  P(wine attribute x | cultivar) \n",
    "pairings to learn the relationship where x is one of the attributes, and do this for all attributes. "
   ]
  },
  {
   "cell_type": "markdown",
   "id": "ce39ec1b",
   "metadata": {},
   "source": [
    "## (a) ##\n",
    "**How should we represent P(wine attribute x | cultivar) ? Fill in the code for gaussian() function and \n",
    "give a reason that you choose this functional form. Given a wine that belongs to cultivar 1, what is the \n",
    "chance of it having an Alcohol % of 13 according to the probability distribution function?**"
   ]
  },
  {
   "cell_type": "markdown",
   "id": "945df0e4",
   "metadata": {},
   "source": [
    "The formula to calculate a Gaussian probability distribution is:\n",
    "$$ P(x|\\mu, \\sigma^2) = \\frac{1}{\\sqrt{2\\pi\\sigma^2}}e^{-\\frac{(x-\\mu)^2}{2\\sigma^2}} $$\n",
    "\n",
    "Therefore, the `gaussian()` function is filled in as below:"
   ]
  },
  {
   "cell_type": "code",
   "execution_count": 2,
   "id": "171573cb",
   "metadata": {},
   "outputs": [],
   "source": [
    "def gaussian(x,mean,std):\n",
    "    return (1/(np.sqrt(2*np.pi)*std))*np.exp(-((x - mean)**2/(2*std**2)))"
   ]
  },
  {
   "cell_type": "code",
   "execution_count": 3,
   "id": "5659b57a",
   "metadata": {},
   "outputs": [],
   "source": [
    "class NaiveBayesClassifier():\n",
    "    def __init__(self):\n",
    "        self.type_indices={}    # store the indices of wines that belong to each cultivar as a boolean array of length 178\n",
    "        self.type_stats={}      # store the mean and std of each cultivar\n",
    "        self.ndata = 0\n",
    "        self.trained=False\n",
    "    \n",
    "    @staticmethod\n",
    "    def gaussian(x,mean,std):\n",
    "        return (1/(np.sqrt(2*np.pi)*std))*np.exp(-((x - mean)**2/(2*std**2)))\n",
    "    \n",
    "    @staticmethod\n",
    "    def calculate_statistics(x_values):\n",
    "        # Returns a list with length of input features. Each element is a tuple, with the input feature's average and standard deviation\n",
    "        n_feats=x_values.shape[1]\n",
    "        return [(np.average(x_values[:,n]),np.std(x_values[:,n])) for n in range(n_feats)]\n",
    "    \n",
    "    @staticmethod\n",
    "    def calculate_prob(x_input,stats):\n",
    "        \"\"\"Calculate the probability that the input features belong to a specific class(P(X|C)), defined by the statistics of features in that class\n",
    "        x_input: np.array shape(nfeatures)\n",
    "        stats: list of tuple [(mean1,std1),(means2,std2),...]\n",
    "        \"\"\" \n",
    "        init_prob=1\n",
    "        \n",
    "        for i in range(len(x_input)):\n",
    "            init_prob*= NaiveBayesClassifier.gaussian(x_input[i],stats[i][0],stats[i][1])\n",
    "            \n",
    "        return init_prob\n",
    "    \n",
    "    def fit(self,xs,ys):\n",
    "        # Train the classifier by calculating the statistics of different features in each class\n",
    "        self.ndata = len(ys)\n",
    "        for y in set(ys):\n",
    "            type_filter= (ys==y)\n",
    "            self.type_indices[y]=type_filter\n",
    "            self.type_stats[y]=self.calculate_statistics(xs[type_filter])\n",
    "        self.trained=True\n",
    "            \n",
    "    def predict(self,xs):\n",
    "        # Do the prediction by outputing the class that has highest probability\n",
    "        if len(xs.shape)>1:\n",
    "            print(\"Only accepts one sample at a time!\")\n",
    "        if self.trained:\n",
    "            guess=None\n",
    "            max_prob=0\n",
    "            # P(C|X) = P(X|C)*P(C) / sum_i(P(X|C_i)*P(C_i)) (deniminator for normalization only, can be ignored)\n",
    "            for y_type in self.type_stats:\n",
    "                prob = self.calculate_prob(xs,self.type_stats[y_type]) * np.sum(self.type_indices[y_type])/self.ndata\n",
    "                if prob>max_prob:\n",
    "                    max_prob=prob\n",
    "                    guess=y_type\n",
    "            return guess\n",
    "        else:\n",
    "            print(\"Please train the classifier first!\")"
   ]
  },
  {
   "cell_type": "markdown",
   "id": "bcde5f50",
   "metadata": {},
   "source": [
    "First we need to read in the wine data and obtain the features and the true cultivars and normalize the feature data."
   ]
  },
  {
   "cell_type": "code",
   "execution_count": 4,
   "id": "5273b0e8",
   "metadata": {},
   "outputs": [],
   "source": [
    "df = pd.read_csv('../Datasets/wines.csv') \n",
    "wine_features = df.iloc[:,:13].values \n",
    "ranking = df.iloc[:,-1].values  "
   ]
  },
  {
   "cell_type": "markdown",
   "id": "fdd19b30",
   "metadata": {},
   "source": [
    "To calculate the gaussian probability, we need to find the mean and standard deviation of Alcohol % for cultivar 1."
   ]
  },
  {
   "cell_type": "code",
   "execution_count": 5,
   "id": "fe5be537",
   "metadata": {},
   "outputs": [
    {
     "data": {
      "text/plain": [
       "0.23236757865410362"
      ]
     },
     "execution_count": 5,
     "metadata": {},
     "output_type": "execute_result"
    }
   ],
   "source": [
    "nbc = NaiveBayesClassifier()  \n",
    "nbc.fit(wine_features, ranking)\n",
    "\n",
    "alcohol_cultivar1_mean = nbc.type_stats[1][0][0]\n",
    "alcohol_cultivar1_std = nbc.type_stats[1][0][1]\n",
    "\n",
    "nbc.gaussian(13., alcohol_cultivar1_mean, alcohol_cultivar1_std)"
   ]
  },
  {
   "cell_type": "markdown",
   "id": "a869e575",
   "metadata": {},
   "source": [
    "##### There is a 23.2% chance that a wine that belongs to cultivar 1 has an alcohol percentage of 13%. #####\n",
    "\n",
    "<br>\n",
    "<br>"
   ]
  },
  {
   "cell_type": "markdown",
   "id": "6c6dc85b",
   "metadata": {},
   "source": [
    "## (b) ##\n",
    "\n",
    "**Using your normalized chemical descriptor data from HW#2, divide your data into 3-fold training \n",
    "and testing groups, i.e. using 2/3 training and 1/3 testing for the three divisions. Does Naïve Baye’s perform \n",
    "as well as previous methods?**"
   ]
  },
  {
   "cell_type": "code",
   "execution_count": 6,
   "id": "cb750c0c",
   "metadata": {},
   "outputs": [],
   "source": [
    "from sklearn.preprocessing import StandardScaler\n",
    "scaler = StandardScaler()\n",
    "norm_wine_features = scaler.fit_transform(wine_features)\n",
    "\n",
    "nbclassifier = NaiveBayesClassifier()\n",
    "nbclassifier.fit(norm_wine_features, ranking)"
   ]
  },
  {
   "cell_type": "code",
   "execution_count": 7,
   "id": "d7395596",
   "metadata": {},
   "outputs": [
    {
     "name": "stdout",
     "output_type": "stream",
     "text": [
      "Accuracy: 0.9833333333333333\n",
      "Accuracy: 0.9830508474576272\n",
      "Accuracy: 0.9661016949152542\n"
     ]
    }
   ],
   "source": [
    "# divide the data into 3-fold training and testing groups\n",
    "from sklearn.model_selection import train_test_split, KFold\n",
    "\n",
    "def calculate_accuracy(model,xs,ys):\n",
    "    y_pred=np.zeros_like(ys)\n",
    "    for idx,x in enumerate(xs):\n",
    "        y_pred[idx]=model.predict(x)\n",
    "    return np.sum(ys==y_pred)/len(ys)\n",
    "\n",
    "# 3-fold cross validation\n",
    "kf = KFold(n_splits=3,shuffle=True) \n",
    "for train_index, test_index in kf.split(norm_wine_features):\n",
    "    \n",
    "    # training data: 2/3, testing data: 1/3\n",
    "    x_train, x_test = norm_wine_features[train_index], norm_wine_features[test_index]\n",
    "    y_train, y_test = ranking[train_index], ranking[test_index]\n",
    "\n",
    "    nbc = NaiveBayesClassifier()\n",
    "    nbc.fit(x_train,y_train)\n",
    "\n",
    "    print(f'Accuracy: {calculate_accuracy(nbc,x_test,y_test)}')"
   ]
  },
  {
   "cell_type": "markdown",
   "id": "0ab6a50d",
   "metadata": {},
   "source": [
    "Naïve Baye’s performs as well and even better than previous methods. The accuracy of the Naïve Baye's Classifier modifer is approximately within the 0.95-1 range, which is very high. This is much better than the previous method of simulated annealing where approximately 77% of wine cultivars were predicted correctly. "
   ]
  },
  {
   "cell_type": "markdown",
   "id": "2b9d2d37",
   "metadata": {},
   "source": [
    "## 3. Softmax and Cross Entropy Loss ## \n",
    "\n",
    "Work on the same wine dataset. Now we use another approach \n",
    "to do the classification. Implement a neural network model using PyTorch with no hidden layer (This is \n",
    "equivalent to a linear regression plus activation function). Use softmax activation function in the last layer \n",
    "and use cross entropy loss as your loss function.   "
   ]
  },
  {
   "cell_type": "markdown",
   "id": "7cbe1dea",
   "metadata": {},
   "source": [
    "## (a) ##\n",
    "**Pass the data through the network once without backpropagation and print out the output. Observe \n",
    "the difference between with and without the softmax activation layer. What does softmax do?**"
   ]
  },
  {
   "cell_type": "markdown",
   "id": "9953c8d5",
   "metadata": {},
   "source": [
    "Without softmax activation layer:"
   ]
  },
  {
   "cell_type": "code",
   "execution_count": 8,
   "id": "fe69395f",
   "metadata": {},
   "outputs": [],
   "source": [
    "# define the model\n",
    "class NN_no_softmax(nn.Module):\n",
    "    def __init__(self):\n",
    "        super(NN_no_softmax,self).__init__()\n",
    "        self.layers = nn.Sequential(\n",
    "            nn.Linear(13,3),\n",
    "        )\n",
    "        \n",
    "    def forward(self,x):\n",
    "        return self.layers(x)"
   ]
  },
  {
   "cell_type": "code",
   "execution_count": 9,
   "id": "2d4fab1a",
   "metadata": {},
   "outputs": [
    {
     "data": {
      "text/plain": [
       "tensor([[-2.9630e-01, -2.5151e-01, -1.1857e-01],\n",
       "        [-2.5806e-02, -8.3281e-01,  4.8341e-01],\n",
       "        [-2.1569e-01,  6.2465e-01, -2.2942e-01],\n",
       "        [-3.1907e-01,  5.3630e-01, -3.4941e-01],\n",
       "        [-2.5244e-01,  3.3715e-01, -1.9351e-01],\n",
       "        [-2.8062e-01, -6.7201e-01, -6.4998e-02],\n",
       "        [-2.3513e-01, -3.2043e-01, -7.7786e-02],\n",
       "        [-9.3940e-02, -6.5717e-02, -1.4029e-01],\n",
       "        [ 7.3815e-03, -1.6452e-01, -6.3721e-02],\n",
       "        [-1.8040e-01,  3.9598e-01, -5.4567e-01],\n",
       "        [-7.8946e-02,  4.9355e-01, -3.7497e-01],\n",
       "        [-2.5318e-01, -1.1236e+00, -1.3701e-01],\n",
       "        [-2.8084e-01, -3.5774e-01,  4.6040e-01],\n",
       "        [-1.5977e-01,  2.0811e-02,  5.4676e-02],\n",
       "        [-3.8613e-01, -4.7856e-01, -1.8887e-01],\n",
       "        [ 1.7506e-01, -2.5003e-01, -3.2874e-01],\n",
       "        [ 1.5584e-02,  3.5551e-02, -4.0819e-02],\n",
       "        [-2.7822e-01,  3.4118e-01,  7.8574e-02],\n",
       "        [-2.9576e-01, -8.3968e-01, -2.4620e-01],\n",
       "        [-1.9535e-01, -6.8064e-01, -2.9543e-01],\n",
       "        [ 2.6097e-01,  1.9668e-01,  1.6947e-01],\n",
       "        [ 4.0401e-01, -1.6794e-01,  1.3957e-01],\n",
       "        [ 5.5822e-01,  7.2136e-01, -2.1008e-01],\n",
       "        [ 3.7619e-01,  7.2361e-01,  5.5932e-04],\n",
       "        [ 2.0796e-02,  1.1812e-01,  2.9348e-01],\n",
       "        [ 6.7141e-01,  2.3196e-01,  1.6384e-01],\n",
       "        [ 7.1244e-01,  2.5660e-01,  5.1367e-01],\n",
       "        [ 2.8732e-01,  4.2430e-01,  1.7412e-01],\n",
       "        [ 6.2521e-01, -4.0583e-02,  1.4585e-01],\n",
       "        [ 8.9806e-01,  1.9773e-01, -2.7057e-01],\n",
       "        [ 1.6696e-01,  1.2679e-01,  6.4708e-01],\n",
       "        [-1.9042e-01, -3.9681e-02,  6.9446e-01],\n",
       "        [ 3.7514e-01,  7.4949e-01,  1.0790e+00],\n",
       "        [-1.8623e-02,  6.3343e-01, -2.0384e-01],\n",
       "        [ 7.2615e-01,  4.2064e-01, -1.1948e-01],\n",
       "        [ 6.0839e-01,  4.7815e-01,  4.9334e-01],\n",
       "        [ 8.6241e-01, -2.5102e-01,  3.9903e-01],\n",
       "        [ 7.9408e-01, -6.9674e-01, -9.2923e-02],\n",
       "        [ 7.4041e-01,  4.1810e-01,  7.8844e-01],\n",
       "        [ 4.8306e-01, -6.5501e-01,  1.4677e-01],\n",
       "        [-8.0281e-02,  2.1150e-01,  2.5059e-01],\n",
       "        [ 1.0403e+00, -1.4107e-01,  6.2523e-02],\n",
       "        [ 2.3419e-01,  6.6768e-02,  2.0751e-01],\n",
       "        [ 2.6391e-01, -5.8859e-02, -2.0265e-01],\n",
       "        [-3.7650e-01,  8.9745e-02,  1.2723e-01],\n",
       "        [ 1.8528e-01,  4.6340e-01, -1.9050e-01],\n",
       "        [ 2.9766e-01, -6.1957e-01, -1.0478e-01],\n",
       "        [ 7.6555e-02, -1.6457e-01,  2.6904e-02],\n",
       "        [-2.1451e-01,  9.8893e-01,  2.0384e-03],\n",
       "        [-1.3697e-01, -4.6847e-01, -2.8129e-02],\n",
       "        [ 4.7419e-01, -8.5033e-01,  1.1544e-01],\n",
       "        [ 1.7499e-01,  1.9948e-01,  2.2670e-02],\n",
       "        [-2.0048e-01,  2.2434e-02,  6.1590e-02],\n",
       "        [-1.2102e-01, -5.2787e-01,  7.1293e-02],\n",
       "        [-1.0497e-02, -1.4594e-02, -2.6687e-01],\n",
       "        [ 2.5616e-01,  4.0273e-03, -3.5537e-01],\n",
       "        [-3.7757e-01,  5.2761e-02, -9.0355e-03],\n",
       "        [ 3.6572e-02, -1.1526e-01, -6.3675e-02],\n",
       "        [-4.5392e-01,  3.5903e-01, -2.0194e-01],\n",
       "        [-3.4502e-01, -9.3717e-01, -6.3372e-01],\n",
       "        [-3.6971e-01, -4.2268e-01, -2.8866e-01],\n",
       "        [-1.1750e-01, -2.3807e-01, -4.8493e-01],\n",
       "        [-8.0322e-02,  8.3820e-01,  4.4585e-01],\n",
       "        [-5.7095e-02, -9.3636e-01, -9.2096e-02],\n",
       "        [-4.0673e-01, -2.0653e-02,  4.8100e-01],\n",
       "        [ 2.3080e-01, -1.3258e+00,  5.6933e-01],\n",
       "        [-1.4449e-01, -5.3676e-01,  2.2481e-01],\n",
       "        [ 9.6069e-02, -4.8261e-01, -3.4127e-02],\n",
       "        [ 3.2822e-03,  3.2714e-01,  1.5317e-01],\n",
       "        [-2.5234e-01, -1.9736e-01,  3.8934e-02],\n",
       "        [-1.8200e-01,  4.4681e-01, -1.5362e-01],\n",
       "        [-8.9500e-01, -1.1178e-01,  4.5637e-01],\n",
       "        [-2.6331e-01, -9.6929e-02,  1.2152e-01],\n",
       "        [-7.0149e-01, -5.7600e-01, -3.9631e-01],\n",
       "        [-2.0386e-02, -7.5359e-02, -4.2261e-01],\n",
       "        [-1.2352e-01,  8.7305e-01,  1.6427e-01],\n",
       "        [-3.7836e-01, -6.2168e-01, -1.0649e-01],\n",
       "        [-3.1220e-01, -2.8756e-01, -4.1358e-01],\n",
       "        [ 4.5329e-02,  1.7202e+00, -4.2109e-01],\n",
       "        [-3.3072e-03,  5.6429e-01, -4.5506e-01],\n",
       "        [ 1.5129e-01,  1.6210e-01,  7.8266e-01],\n",
       "        [ 4.1776e-01,  2.3545e-01, -5.6560e-01],\n",
       "        [ 3.0570e-01, -2.1060e-01,  2.3955e-01],\n",
       "        [ 3.9108e-01,  5.1508e-02, -4.5957e-01],\n",
       "        [ 3.1289e-01,  1.0878e+00, -1.5708e-01],\n",
       "        [ 3.5738e-01,  8.8045e-01,  5.1204e-01],\n",
       "        [ 5.0764e-01,  4.5761e-01,  1.6641e-01],\n",
       "        [ 1.7955e-01,  4.4554e-01,  2.6212e-02],\n",
       "        [ 5.4835e-01, -2.5904e-01,  2.3865e-01],\n",
       "        [ 7.0169e-01,  8.2032e-01,  5.1928e-01],\n",
       "        [ 9.7419e-01,  7.0666e-01,  1.7362e-01],\n",
       "        [ 1.6496e-01,  6.6189e-01,  5.8866e-01],\n",
       "        [ 3.9856e-01,  1.0669e+00, -2.2211e-01],\n",
       "        [ 3.8065e-01, -5.2051e-01, -4.9419e-03],\n",
       "        [ 4.6026e-01,  3.3427e-01, -4.8076e-01],\n",
       "        [ 9.8953e-01,  4.1157e-01, -2.1164e-02],\n",
       "        [ 6.7728e-01, -2.5451e-01,  6.0859e-01],\n",
       "        [ 1.2276e-01, -5.3207e-01,  8.9264e-01],\n",
       "        [ 6.9786e-01,  4.5116e-01, -2.6385e-01],\n",
       "        [ 1.7633e-01,  8.3365e-01, -2.1271e-02],\n",
       "        [ 3.2640e-01,  8.4836e-01,  1.8401e-01],\n",
       "        [ 1.0062e+00, -6.2109e-01, -9.4973e-02],\n",
       "        [ 1.1328e+00, -9.4263e-01,  3.7198e-01],\n",
       "        [-1.9452e-01,  2.1709e-01,  1.6142e-01],\n",
       "        [-6.8648e-02,  3.2473e-01,  3.9006e-01],\n",
       "        [ 2.4509e-01, -1.2568e-01,  4.2882e-02],\n",
       "        [ 4.8711e-02,  2.6548e-01, -5.6064e-01],\n",
       "        [-3.2007e-01,  4.4824e-01,  1.8635e-01],\n",
       "        [ 1.5553e-01,  5.2375e-01, -2.8270e-01],\n",
       "        [ 3.2928e-01, -2.0884e-01, -3.2217e-01],\n",
       "        [ 6.8344e-01, -9.8609e-01, -3.9032e-01],\n",
       "        [ 3.5755e-01, -4.8691e-01, -8.5185e-02],\n",
       "        [ 2.3443e-01, -3.1644e-01,  1.2048e-01],\n",
       "        [-1.3334e-01,  3.0366e-01,  4.0736e-02],\n",
       "        [ 1.1231e-01,  4.6373e-01, -1.1348e-01],\n",
       "        [ 1.3697e-01,  2.3846e-01,  1.3783e-02],\n",
       "        [ 4.4344e-01, -2.0886e-01, -4.2953e-01],\n",
       "        [ 3.5487e-02, -1.3824e-01,  3.3510e-01],\n",
       "        [-3.0262e-01,  4.5977e-01, -2.8348e-01],\n",
       "        [-6.0996e-01, -5.6412e-01, -3.8597e-01],\n",
       "        [-4.5862e-01,  1.3285e-01, -2.9464e-01],\n",
       "        [-4.2584e-01,  4.3724e-01,  9.7534e-02],\n",
       "        [-6.0047e-01, -6.1766e-01, -2.4337e-02],\n",
       "        [-5.3513e-01, -7.5413e-01, -4.6175e-01],\n",
       "        [-7.1564e-01, -2.3326e-01,  2.6447e-01],\n",
       "        [-2.3064e-01,  5.7595e-02, -2.6962e-01],\n",
       "        [-1.0840e-01, -3.5579e-01, -2.0483e-01],\n",
       "        [-2.9867e-01, -3.9817e-01, -5.2045e-01],\n",
       "        [ 7.4561e-02, -3.7288e-01, -2.7679e-01],\n",
       "        [ 1.3982e-01, -4.6668e-01,  1.4965e-03],\n",
       "        [-3.7244e-01,  1.8106e-01, -3.5808e-01],\n",
       "        [-5.3337e-01,  1.4347e-01, -7.2005e-02],\n",
       "        [-1.9567e-01, -5.3441e-01, -4.3174e-01],\n",
       "        [-8.9877e-03, -4.1864e-01, -1.7917e-01],\n",
       "        [-1.6513e-01, -3.9779e-01, -3.2454e-01],\n",
       "        [-3.1473e-01, -5.5307e-01,  2.4548e-02],\n",
       "        [ 4.0786e-01,  3.3752e-02, -1.4389e-01],\n",
       "        [ 3.8516e-01,  7.7519e-02,  6.5935e-01],\n",
       "        [ 2.0825e-01, -2.2100e-01, -2.2846e-01],\n",
       "        [-1.4030e-01,  9.2618e-01,  2.2868e-01],\n",
       "        [ 6.2582e-02, -1.6049e+00, -3.1475e-01],\n",
       "        [ 2.6125e-01, -4.5382e-01, -3.2929e-01],\n",
       "        [ 1.0402e-01,  8.2479e-01,  3.5982e-01],\n",
       "        [ 1.4752e-01, -2.7795e-01,  4.6964e-01],\n",
       "        [ 5.3773e-01,  2.0787e-01,  1.8804e-01],\n",
       "        [ 5.6761e-01,  4.5079e-01,  3.9330e-01],\n",
       "        [ 8.6225e-01,  3.3923e-01,  2.7182e-01],\n",
       "        [ 2.8710e-02, -1.3163e-01,  3.9424e-01],\n",
       "        [ 3.6127e-01,  7.5506e-01,  3.0563e-01],\n",
       "        [ 5.1770e-01, -4.0670e-01, -8.9572e-02],\n",
       "        [ 9.5138e-01, -1.4297e-01, -4.1225e-04],\n",
       "        [ 8.8093e-01,  3.9245e-01,  8.6741e-03],\n",
       "        [ 3.5154e-01,  1.8582e-02, -2.3956e-02],\n",
       "        [ 5.5728e-01, -1.7043e-03,  1.0290e-01],\n",
       "        [ 7.7070e-01, -3.1204e+00,  5.1060e-01],\n",
       "        [ 2.6124e-01, -6.3785e-01,  5.3848e-01],\n",
       "        [ 4.0975e-01,  1.1074e-01,  6.5034e-01],\n",
       "        [ 6.5614e-01, -3.6567e-01, -1.5071e-01],\n",
       "        [-5.3535e-02,  2.5631e-01,  1.0005e-01],\n",
       "        [ 8.7897e-01,  3.8821e-01, -1.0739e-01],\n",
       "        [ 5.0549e-01,  4.3752e-02, -2.3370e-01],\n",
       "        [ 8.1763e-02, -3.4217e-01,  4.3046e-01],\n",
       "        [-3.7716e-01,  1.1899e-02, -1.6693e-01],\n",
       "        [ 1.8739e-02, -2.4217e-01, -1.5250e-01],\n",
       "        [-1.2731e-01, -6.8555e-01,  7.6893e-02],\n",
       "        [ 1.3203e-01, -7.4900e-01, -1.2703e-01],\n",
       "        [ 5.0384e-01, -3.9102e-02, -7.2690e-02],\n",
       "        [ 8.8582e-01,  2.9505e-02, -4.3432e-01],\n",
       "        [ 1.6549e-01,  2.4004e-02, -1.3705e-02],\n",
       "        [ 1.0885e+00, -1.0190e+00, -3.7446e-01],\n",
       "        [ 1.0309e+00, -7.0290e-01, -2.1148e-01],\n",
       "        [ 2.2288e-01,  2.7565e-02, -4.8481e-01],\n",
       "        [ 2.5579e-01, -3.8542e-01, -1.3432e-01],\n",
       "        [-4.3169e-01, -8.8995e-01,  9.5545e-02],\n",
       "        [-2.7667e-01, -3.1245e-01, -2.3686e-01],\n",
       "        [ 2.7394e-01, -4.2021e-01, -2.7124e-01],\n",
       "        [ 2.6624e-01, -6.4726e-01, -7.6452e-02],\n",
       "        [ 5.9242e-01,  5.9448e-01, -2.4420e-03]], grad_fn=<AddmmBackward0>)"
      ]
     },
     "execution_count": 9,
     "metadata": {},
     "output_type": "execute_result"
    }
   ],
   "source": [
    "wine_no_softmax = NN_no_softmax()\n",
    "\n",
    "xs_tensor = torch.tensor(norm_wine_features,dtype=torch.float32)\n",
    "ys_tensor = torch.tensor(ranking,dtype=torch.long)\n",
    "\n",
    "wine_no_softmax(xs_tensor)"
   ]
  },
  {
   "cell_type": "markdown",
   "id": "7667f455",
   "metadata": {},
   "source": [
    "With softmax activation layer:"
   ]
  },
  {
   "cell_type": "code",
   "execution_count": 10,
   "id": "3a9f2d8b",
   "metadata": {},
   "outputs": [],
   "source": [
    "class NN(nn.Module):\n",
    "    def __init__(self):\n",
    "        super(NN,self).__init__()\n",
    "        self.layers = nn.Sequential(\n",
    "            nn.Linear(13,3),\n",
    "            nn.Softmax(dim=1)\n",
    "        )\n",
    "        \n",
    "    def forward(self,x):\n",
    "        return self.layers(x)"
   ]
  },
  {
   "cell_type": "code",
   "execution_count": 11,
   "id": "3a40702a",
   "metadata": {
    "scrolled": false
   },
   "outputs": [
    {
     "data": {
      "text/plain": [
       "tensor([[0.5494, 0.2907, 0.1599],\n",
       "        [0.2968, 0.2589, 0.4443],\n",
       "        [0.5351, 0.2852, 0.1797],\n",
       "        [0.5000, 0.2395, 0.2605],\n",
       "        [0.4888, 0.2595, 0.2518],\n",
       "        [0.4450, 0.2951, 0.2599],\n",
       "        [0.6023, 0.2345, 0.1632],\n",
       "        [0.4834, 0.1942, 0.3224],\n",
       "        [0.5262, 0.1921, 0.2817],\n",
       "        [0.4760, 0.2133, 0.3107],\n",
       "        [0.5931, 0.2300, 0.1768],\n",
       "        [0.3292, 0.2321, 0.4387],\n",
       "        [0.2694, 0.2579, 0.4726],\n",
       "        [0.3781, 0.2205, 0.4014],\n",
       "        [0.5564, 0.2353, 0.2083],\n",
       "        [0.5928, 0.2425, 0.1647],\n",
       "        [0.5241, 0.2998, 0.1761],\n",
       "        [0.5676, 0.2470, 0.1854],\n",
       "        [0.5426, 0.2562, 0.2012],\n",
       "        [0.6161, 0.2384, 0.1455],\n",
       "        [0.1128, 0.1596, 0.7275],\n",
       "        [0.7042, 0.1172, 0.1786],\n",
       "        [0.7355, 0.1782, 0.0863],\n",
       "        [0.2695, 0.3005, 0.4300],\n",
       "        [0.1389, 0.2002, 0.6608],\n",
       "        [0.4183, 0.1480, 0.4337],\n",
       "        [0.5165, 0.2836, 0.1999],\n",
       "        [0.4828, 0.1775, 0.3397],\n",
       "        [0.2679, 0.2267, 0.5054],\n",
       "        [0.5013, 0.1583, 0.3404],\n",
       "        [0.4837, 0.3102, 0.2062],\n",
       "        [0.2355, 0.1865, 0.5779],\n",
       "        [0.3659, 0.2647, 0.3695],\n",
       "        [0.4931, 0.1611, 0.3458],\n",
       "        [0.4393, 0.1893, 0.3715],\n",
       "        [0.5503, 0.2974, 0.1523],\n",
       "        [0.3831, 0.1922, 0.4248],\n",
       "        [0.4160, 0.1812, 0.4028],\n",
       "        [0.3858, 0.1420, 0.4721],\n",
       "        [0.4414, 0.2312, 0.3273],\n",
       "        [0.2690, 0.2753, 0.4558],\n",
       "        [0.5135, 0.2325, 0.2540],\n",
       "        [0.1701, 0.2223, 0.6076],\n",
       "        [0.2495, 0.2824, 0.4681],\n",
       "        [0.1744, 0.1946, 0.6310],\n",
       "        [0.1172, 0.2979, 0.5849],\n",
       "        [0.1531, 0.1801, 0.6668],\n",
       "        [0.1061, 0.1851, 0.7088],\n",
       "        [0.0727, 0.2765, 0.6508],\n",
       "        [0.1491, 0.4187, 0.4322],\n",
       "        [0.3500, 0.3061, 0.3439],\n",
       "        [0.1424, 0.4865, 0.3711],\n",
       "        [0.1075, 0.2246, 0.6679],\n",
       "        [0.1650, 0.3926, 0.4424],\n",
       "        [0.1733, 0.3804, 0.4463],\n",
       "        [0.2243, 0.4590, 0.3168],\n",
       "        [0.0642, 0.3155, 0.6203],\n",
       "        [0.1614, 0.3430, 0.4956],\n",
       "        [0.4173, 0.2470, 0.3357],\n",
       "        [0.6433, 0.2339, 0.1228],\n",
       "        [0.4849, 0.3017, 0.2134],\n",
       "        [0.6558, 0.2159, 0.1283],\n",
       "        [0.4294, 0.4081, 0.1625],\n",
       "        [0.4484, 0.2764, 0.2753],\n",
       "        [0.3031, 0.2631, 0.4338],\n",
       "        [0.2999, 0.2398, 0.4602],\n",
       "        [0.4299, 0.2197, 0.3504],\n",
       "        [0.6171, 0.2099, 0.1731],\n",
       "        [0.3969, 0.2884, 0.3147],\n",
       "        [0.3876, 0.2369, 0.3756],\n",
       "        [0.4496, 0.2113, 0.3391],\n",
       "        [0.3008, 0.3399, 0.3593],\n",
       "        [0.2768, 0.2984, 0.4249],\n",
       "        [0.3048, 0.2449, 0.4503],\n",
       "        [0.6591, 0.2287, 0.1121],\n",
       "        [0.6025, 0.2981, 0.0994],\n",
       "        [0.3748, 0.2770, 0.3482],\n",
       "        [0.5378, 0.2556, 0.2066],\n",
       "        [0.3157, 0.1611, 0.5232],\n",
       "        [0.4410, 0.1653, 0.3937],\n",
       "        [0.1817, 0.1535, 0.6649],\n",
       "        [0.6162, 0.1479, 0.2360],\n",
       "        [0.6760, 0.1100, 0.2140],\n",
       "        [0.5237, 0.1734, 0.3029],\n",
       "        [0.5830, 0.2019, 0.2152],\n",
       "        [0.4062, 0.3851, 0.2086],\n",
       "        [0.5658, 0.1299, 0.3043],\n",
       "        [0.5307, 0.2075, 0.2618],\n",
       "        [0.3728, 0.1314, 0.4958],\n",
       "        [0.2270, 0.2953, 0.4777],\n",
       "        [0.2617, 0.3609, 0.3774],\n",
       "        [0.4188, 0.1998, 0.3814],\n",
       "        [0.4621, 0.2194, 0.3185],\n",
       "        [0.3691, 0.2094, 0.4214],\n",
       "        [0.5752, 0.1729, 0.2519],\n",
       "        [0.5438, 0.2596, 0.1965],\n",
       "        [0.5260, 0.2418, 0.2321],\n",
       "        [0.0814, 0.1886, 0.7300],\n",
       "        [0.5447, 0.1791, 0.2762],\n",
       "        [0.1502, 0.2875, 0.5623],\n",
       "        [0.3050, 0.2502, 0.4447],\n",
       "        [0.5283, 0.2725, 0.1992],\n",
       "        [0.2950, 0.2538, 0.4512],\n",
       "        [0.1663, 0.2641, 0.5695],\n",
       "        [0.0418, 0.1812, 0.7771],\n",
       "        [0.1125, 0.2457, 0.6418],\n",
       "        [0.2248, 0.2751, 0.5001],\n",
       "        [0.0899, 0.2003, 0.7098],\n",
       "        [0.1658, 0.3301, 0.5041],\n",
       "        [0.2010, 0.4010, 0.3980],\n",
       "        [0.1621, 0.3180, 0.5200],\n",
       "        [0.1375, 0.3163, 0.5462],\n",
       "        [0.1009, 0.2577, 0.6414],\n",
       "        [0.1147, 0.2992, 0.5861],\n",
       "        [0.1231, 0.3373, 0.5397],\n",
       "        [0.1234, 0.2770, 0.5995],\n",
       "        [0.1750, 0.4097, 0.4153],\n",
       "        [0.4866, 0.3313, 0.1821],\n",
       "        [0.4835, 0.3078, 0.2087],\n",
       "        [0.3844, 0.2318, 0.3838],\n",
       "        [0.6310, 0.2102, 0.1588],\n",
       "        [0.5378, 0.3447, 0.1175],\n",
       "        [0.4004, 0.2308, 0.3688],\n",
       "        [0.5567, 0.2599, 0.1834],\n",
       "        [0.3560, 0.2712, 0.3728],\n",
       "        [0.5471, 0.2120, 0.2410],\n",
       "        [0.4092, 0.2708, 0.3199],\n",
       "        [0.6177, 0.2143, 0.1681],\n",
       "        [0.6050, 0.2042, 0.1908],\n",
       "        [0.5398, 0.3057, 0.1545],\n",
       "        [0.3701, 0.2492, 0.3808],\n",
       "        [0.4673, 0.2716, 0.2611],\n",
       "        [0.5780, 0.2863, 0.1357],\n",
       "        [0.6391, 0.2219, 0.1390],\n",
       "        [0.5875, 0.2545, 0.1580],\n",
       "        [0.4040, 0.2642, 0.3318],\n",
       "        [0.2111, 0.2671, 0.5219],\n",
       "        [0.3906, 0.2848, 0.3246],\n",
       "        [0.1892, 0.1836, 0.6272],\n",
       "        [0.5890, 0.1961, 0.2149],\n",
       "        [0.7223, 0.0791, 0.1986],\n",
       "        [0.6888, 0.0997, 0.2115],\n",
       "        [0.2570, 0.2126, 0.5304],\n",
       "        [0.3029, 0.1951, 0.5020],\n",
       "        [0.1515, 0.3766, 0.4718],\n",
       "        [0.3372, 0.1886, 0.4742],\n",
       "        [0.3063, 0.2885, 0.4051],\n",
       "        [0.4389, 0.1262, 0.4349],\n",
       "        [0.5114, 0.1935, 0.2951],\n",
       "        [0.7040, 0.1516, 0.1444],\n",
       "        [0.2359, 0.3372, 0.4269],\n",
       "        [0.3391, 0.3380, 0.3229],\n",
       "        [0.4282, 0.1682, 0.4036],\n",
       "        [0.4655, 0.2002, 0.3343],\n",
       "        [0.4546, 0.2603, 0.2851],\n",
       "        [0.1945, 0.2063, 0.5992],\n",
       "        [0.4760, 0.2853, 0.2386],\n",
       "        [0.4653, 0.2043, 0.3304],\n",
       "        [0.2486, 0.2670, 0.4844],\n",
       "        [0.2088, 0.3685, 0.4227],\n",
       "        [0.1316, 0.3785, 0.4899],\n",
       "        [0.0457, 0.1867, 0.7676],\n",
       "        [0.1580, 0.3472, 0.4947],\n",
       "        [0.0997, 0.3110, 0.5893],\n",
       "        [0.2227, 0.3826, 0.3947],\n",
       "        [0.2554, 0.4451, 0.2995],\n",
       "        [0.1354, 0.6033, 0.2613],\n",
       "        [0.2590, 0.4640, 0.2770],\n",
       "        [0.0846, 0.4160, 0.4994],\n",
       "        [0.4201, 0.4943, 0.0856],\n",
       "        [0.3534, 0.5033, 0.1433],\n",
       "        [0.2418, 0.4020, 0.3562],\n",
       "        [0.2586, 0.3896, 0.3517],\n",
       "        [0.1484, 0.2574, 0.5942],\n",
       "        [0.1264, 0.4506, 0.4229],\n",
       "        [0.1654, 0.4932, 0.3414],\n",
       "        [0.1344, 0.4069, 0.4587],\n",
       "        [0.4346, 0.2731, 0.2923]], grad_fn=<SoftmaxBackward0>)"
      ]
     },
     "execution_count": 11,
     "metadata": {},
     "output_type": "execute_result"
    }
   ],
   "source": [
    "wine_classifier = NN()\n",
    "wine_classifier(xs_tensor)"
   ]
  },
  {
   "cell_type": "markdown",
   "id": "bc337b6c",
   "metadata": {},
   "source": [
    "Softmax turns the original output from the linear regression into a probability distribution so that all of the values are between 0 and 1 and the sum of the probabilities for each sample adds up to 1.\n",
    "<br>\n",
    "<br>"
   ]
  },
  {
   "cell_type": "markdown",
   "id": "613d7bb9",
   "metadata": {},
   "source": [
    "## (b) ##\n",
    "\n",
    "**Divide  your  data  into  3-fold  training  and  testing  groups,  within  each  fold  further  divide  your \n",
    "training data into 80% training and 20% validation, choose the model for the epoch with lowest validation \n",
    "error. Report error in terms of success rate of classification. How well is the prediction?**"
   ]
  },
  {
   "cell_type": "code",
   "execution_count": 12,
   "id": "3879ee43",
   "metadata": {},
   "outputs": [],
   "source": [
    "def train_and_val(model,Xs,ys,epochs,draw_curve=True):\n",
    "    \"\"\"\n",
    "    Parameters\n",
    "    --------------\n",
    "    model: a PyTorch model\n",
    "    train_X: np.array shape(ndata,nfeatures)\n",
    "    train_y: np.array shape(ndata)\n",
    "    epochs: int\n",
    "    draw_curve: bool\n",
    "    \"\"\"\n",
    "    ### Define your loss function, optimizer. Convert data to torch tensor ###\n",
    "    loss = nn.CrossEntropyLoss()\n",
    "    optimizer = torch.optim.Adam(model.parameters(), lr=1e-3)\n",
    "    model.train()\n",
    "    Xs = torch.tensor(Xs, dtype=torch.float32)\n",
    "    ys = torch.tensor(ys, dtype=torch.long)\n",
    "    \n",
    "    # Kfolds \n",
    "    kf = KFold(n_splits=3,shuffle=True)\n",
    "    for train_index, test_index in kf.split(Xs):\n",
    "        train_Xs=Xs[train_index]\n",
    "        train_ys=ys[train_index]\n",
    "        test_Xs=Xs[test_index]\n",
    "        test_ys=ys[test_index]\n",
    "\n",
    "        val_array=[]\n",
    "        best_weights = {}\n",
    "        lowest_val_loss = np.inf\n",
    "\n",
    "        # Split training examples further into training and validation\n",
    "        train_in, val_in, train_real, val_real = train_test_split(train_Xs, train_ys, test_size=0.2)\n",
    "        for i in range(epochs):\n",
    "            \n",
    "            # Compute prediction error\n",
    "            pred = model(train_in)\n",
    "            loss_train = loss(pred, train_real)\n",
    "\n",
    "            # Backpropagation\n",
    "            optimizer.zero_grad()\n",
    "            loss_train.backward()\n",
    "            optimizer.step()\n",
    "\n",
    "            ### compute validation loss and keep track of the lowest val loss ###\n",
    "            val_pred = model(val_in)\n",
    "            val_err = loss(val_pred, val_real)\n",
    "            val_array.append(val_err.item())\n",
    "            if val_err.item() < lowest_val_loss:\n",
    "                lowest_val_loss = val_err.item()\n",
    "                best_weights = model.state_dict()\n",
    "                \n",
    "     # The final number of epochs is when the minimum error in validation set occurs    \n",
    "    final_epochs=np.argmin(val_array)+1\n",
    "    print(\"Number of epochs with lowest validation:\",final_epochs)\n",
    "    ### Recover the model weight ###\n",
    "    model.load_state_dict(best_weights)\n",
    "\n",
    "    if draw_curve:\n",
    "        plt.figure()\n",
    "        plt.plot(np.arange(len(val_array))+1,val_array,label='Validation loss')\n",
    "        plt.xlabel('Epochs')\n",
    "        plt.ylabel('Loss')\n",
    "        plt.legend()"
   ]
  },
  {
   "cell_type": "code",
   "execution_count": 13,
   "id": "7494d2b9",
   "metadata": {},
   "outputs": [
    {
     "name": "stdout",
     "output_type": "stream",
     "text": [
      "Number of epochs with lowest validation: 1000\n"
     ]
    },
    {
     "data": {
      "image/png": "[encoded data removed]",
      "text/plain": [
       "<Figure size 640x480 with 1 Axes>"
      ]
     },
     "metadata": {},
     "output_type": "display_data"
    }
   ],
   "source": [
    "adjusted_ranking = ranking - 1 #(1,2,3) to (0,1,2)\n",
    "train_and_val(wine_classifier, norm_wine_features, adjusted_ranking, 1000)"
   ]
  },
  {
   "cell_type": "markdown",
   "id": "59531081",
   "metadata": {},
   "source": [
    "The prediction is not super great because even after several epochs, the loss does not decrease below approximately 0.5590"
   ]
  },
  {
   "cell_type": "code",
   "execution_count": 14,
   "id": "f65d674a",
   "metadata": {},
   "outputs": [],
   "source": [
    "def calculate_accuracy(model,xs,ys):\n",
    "    print(ys.size())\n",
    "    y_pred = model(xs)\n",
    "    y_pred = y_pred.detach().numpy()\n",
    "    y_pred = np.argmax(y_pred,axis=1)\n",
    "    ys = ys.detach().numpy()\n",
    "    return np.sum(ys==y_pred)/len(ys)"
   ]
  },
  {
   "cell_type": "code",
   "execution_count": 15,
   "id": "cdabeb85",
   "metadata": {},
   "outputs": [
    {
     "name": "stdout",
     "output_type": "stream",
     "text": [
      "torch.Size([178])\n"
     ]
    },
    {
     "data": {
      "text/plain": [
       "0.011235955056179775"
      ]
     },
     "execution_count": 15,
     "metadata": {},
     "output_type": "execute_result"
    }
   ],
   "source": [
    "calculate_accuracy(wine_classifier, xs_tensor, ys_tensor)"
   ]
  },
  {
   "cell_type": "markdown",
   "id": "9b5caab5",
   "metadata": {},
   "source": [
    "The success rate of classification is really low at 1.1%."
   ]
  }
 ],
 "metadata": {
  "kernelspec": {
   "display_name": "Python 3 (ipykernel)",
   "language": "python",
   "name": "python3"
  },
  "language_info": {
   "codemirror_mode": {
    "name": "ipython",
    "version": 3
   },
   "file_extension": ".py",
   "mimetype": "text/x-python",
   "name": "python",
   "nbconvert_exporter": "python",
   "pygments_lexer": "ipython3",
   "version": "3.9.13"
  }
 },
 "nbformat": 4,
 "nbformat_minor": 5
}
