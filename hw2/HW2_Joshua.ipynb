{
 "cells": [
  {
   "cell_type": "code",
   "execution_count": 1,
   "id": "349df399",
   "metadata": {},
   "outputs": [],
   "source": [
    "import numpy as np\n",
    "import matplotlib.pyplot as plt \n",
    "from scipy.optimize import minimize\n",
    "import pandas as pd\n",
    "import numpy.linalg as LA"
   ]
  },
  {
   "cell_type": "markdown",
   "id": "0bcaa25c",
   "metadata": {},
   "source": [
    "# CHEM 277B: Homework 2 - Simulated Annealing #"
   ]
  },
  {
   "cell_type": "markdown",
   "id": "67e9d0f0",
   "metadata": {},
   "source": [
    "## 1. Classical simulated annealing"
   ]
  },
  {
   "cell_type": "markdown",
   "id": "cc62cbb4",
   "metadata": {},
   "source": [
    "We will use the Schwefel function for D=10 in order to find its global minimum using CSA."
   ]
  },
  {
   "cell_type": "markdown",
   "id": "e798ac14",
   "metadata": {},
   "source": [
    "$ 𝑓(𝑥_1,𝑥_2...𝑥_𝐷)=418.9829xD - \\sum_{i}^{D}x_i(sin(\\sqrt(x_i))$\n",
    "\n",
    "$  𝑥𝑖 ∈[−500,500]$ for $ 𝑖 =1,...,𝐷 $\n",
    "\n",
    "In which we use the visitation function of a random displacement along each \n",
    "dimension\n",
    "\n",
    "$  𝑥_𝑖 =𝑥_𝑖 +(2∗𝑈𝑅𝑁−1)×∆$, with $∆=0.5$ for $𝑖 =1,...,𝐷 $"
   ]
  },
  {
   "cell_type": "markdown",
   "id": "0f873d13",
   "metadata": {},
   "source": [
    "#### (a) Fill  in  the  blanks  in  the  provided  simulated  annealing  code.  Use  a  linear  (Tt+1=Tt-α)  cooling  schedule with α=0.5, and initializing TSA=3000K, to perform CSA until the temperature reaches 30K and 10K,  and  record  the  function  values.  How  long  is  your  cooling  schedule?  Check  against  the  debugging outputs. Given the stochastic nature of CSA, it would be best to report at least 3 runs for each lower bound temperature. Do you find better solutions when cooling to the lower temperature? ####"
   ]
  },
  {
   "cell_type": "code",
   "execution_count": 2,
   "id": "b567ff51",
   "metadata": {},
   "outputs": [],
   "source": [
    "def SA(solution,evaluation,delta,boundary,cooling_schedule):\n",
    "    \"\"\" Simulated Annealing for minimization\n",
    "    solution: np.array. Initial guess of solution\n",
    "    evaluation: func. Function to evaluate solution\n",
    "    delta: float. Magnitude of random displacement\n",
    "    boundary: array of int/float. [lowerbound,upperbound]\n",
    "    cooling_schedule: np.array. An array of tempretures for simulated annealing\n",
    "    \"\"\"\n",
    "    best_solution=solution.copy() \n",
    "    lowest_eval=evaluation(best_solution) \n",
    "    for idx,temp in enumerate(cooling_schedule): \n",
    "        if idx%500==0: \n",
    "            print(\"%d/%d   temp:%f\"%(idx,len(cooling_schedule),temp))\n",
    "        for n in range(len(solution)): \n",
    "            trial=solution.copy() \n",
    "            trial[n]+=delta*(2*np.random.random()-1) \n",
    "            if trial[n]>=boundary[0] and trial[n]<=boundary[1]:  \n",
    "                #fill in acceptance criterion\n",
    "                if np.exp((evaluation(solution)-evaluation(trial))/temp)>np.random.random(): \n",
    "                    solution=trial # update solution\n",
    "                    if evaluation(solution)<lowest_eval: \n",
    "                        #update solution here\n",
    "                        best_solution=solution.copy() \n",
    "                        lowest_eval=evaluation(solution) \n",
    "                        \n",
    "    return {\"solution\":best_solution,\"evaluation\":lowest_eval}"
   ]
  },
  {
   "cell_type": "code",
   "execution_count": 3,
   "id": "d8779044",
   "metadata": {},
   "outputs": [],
   "source": [
    "def Schwefel(x):\n",
    "    \"\"\" Schwefel function\n",
    "    x: np.array. Input of function\n",
    "    \"\"\"\n",
    "    return 418.9829*len(x) - np.sum(x*np.sin(np.sqrt(np.abs(x))))"
   ]
  },
  {
   "cell_type": "markdown",
   "id": "ed063ba6",
   "metadata": {},
   "source": [
    "Linear Cooling: "
   ]
  },
  {
   "cell_type": "code",
   "execution_count": 4,
   "id": "dc770bf5",
   "metadata": {},
   "outputs": [
    {
     "data": {
      "text/plain": [
       "5980"
      ]
     },
     "execution_count": 4,
     "metadata": {},
     "output_type": "execute_result"
    }
   ],
   "source": [
    "linear_cooling_30 = np.arange(3000, 30, -0.5)\n",
    "linear_cooling_10 = np.arange(3000, 10, -0.5)\n",
    "len(linear_cooling_10)"
   ]
  },
  {
   "cell_type": "markdown",
   "id": "2c93981c",
   "metadata": {},
   "source": [
    "From 3000K to 30K, the cooling schedule is 5940 values long while there are 5980 values from 3000K to 10K."
   ]
  },
  {
   "cell_type": "code",
   "execution_count": 5,
   "id": "56c0b9e7",
   "metadata": {
    "scrolled": false
   },
   "outputs": [
    {
     "name": "stdout",
     "output_type": "stream",
     "text": [
      "0/5940   temp:3000.000000\n",
      "500/5940   temp:2750.000000\n",
      "1000/5940   temp:2500.000000\n",
      "1500/5940   temp:2250.000000\n",
      "2000/5940   temp:2000.000000\n",
      "2500/5940   temp:1750.000000\n",
      "3000/5940   temp:1500.000000\n",
      "3500/5940   temp:1250.000000\n",
      "4000/5940   temp:1000.000000\n",
      "4500/5940   temp:750.000000\n",
      "5000/5940   temp:500.000000\n",
      "5500/5940   temp:250.000000\n"
     ]
    },
    {
     "data": {
      "text/plain": [
       "{'solution': array([ 354.34830077,  122.60772378,  277.0726529 ,  -61.48717164,\n",
       "         485.61918847,  457.37145607,  478.75549242,  102.1477102 ,\n",
       "        -312.12318192,  123.63384761]),\n",
       " 'evaluation': 4213.270378200246}"
      ]
     },
     "execution_count": 5,
     "metadata": {},
     "output_type": "execute_result"
    }
   ],
   "source": [
    "solution=np.random.random(10)*1000-500 # random initial guess within [-500,500]\n",
    "SA(solution, Schwefel, 0.5, [-500, 500], linear_cooling_30)"
   ]
  },
  {
   "cell_type": "code",
   "execution_count": 6,
   "id": "22706412",
   "metadata": {},
   "outputs": [
    {
     "name": "stdout",
     "output_type": "stream",
     "text": [
      "0/5940   temp:3000.000000\n",
      "500/5940   temp:2750.000000\n",
      "1000/5940   temp:2500.000000\n",
      "1500/5940   temp:2250.000000\n",
      "2000/5940   temp:2000.000000\n",
      "2500/5940   temp:1750.000000\n",
      "3000/5940   temp:1500.000000\n",
      "3500/5940   temp:1250.000000\n",
      "4000/5940   temp:1000.000000\n",
      "4500/5940   temp:750.000000\n",
      "5000/5940   temp:500.000000\n",
      "5500/5940   temp:250.000000\n"
     ]
    },
    {
     "data": {
      "text/plain": [
       "{'solution': array([ 401.71641868,  164.56878307,  231.5630438 ,  -68.09819663,\n",
       "         443.5855947 ,  466.41215665,  471.71291695,   90.00395032,\n",
       "        -341.6347264 ,  162.88991274]),\n",
       " 'evaluation': 2917.257285435508}"
      ]
     },
     "execution_count": 6,
     "metadata": {},
     "output_type": "execute_result"
    }
   ],
   "source": [
    "SA(solution, Schwefel, 0.5, [-500, 500], linear_cooling_30)"
   ]
  },
  {
   "cell_type": "code",
   "execution_count": 7,
   "id": "095996b6",
   "metadata": {},
   "outputs": [
    {
     "name": "stdout",
     "output_type": "stream",
     "text": [
      "0/5940   temp:3000.000000\n",
      "500/5940   temp:2750.000000\n",
      "1000/5940   temp:2500.000000\n",
      "1500/5940   temp:2250.000000\n",
      "2000/5940   temp:2000.000000\n",
      "2500/5940   temp:1750.000000\n",
      "3000/5940   temp:1500.000000\n",
      "3500/5940   temp:1250.000000\n",
      "4000/5940   temp:1000.000000\n",
      "4500/5940   temp:750.000000\n",
      "5000/5940   temp:500.000000\n",
      "5500/5940   temp:250.000000\n"
     ]
    },
    {
     "data": {
      "text/plain": [
       "{'solution': array([ 381.88606487,  101.33162264,  329.53514814, -114.14393288,\n",
       "         455.25686673,  492.3784694 ,  449.73739444,  108.93983112,\n",
       "        -339.78981115,  102.03099027]),\n",
       " 'evaluation': 3630.7117380115196}"
      ]
     },
     "execution_count": 7,
     "metadata": {},
     "output_type": "execute_result"
    }
   ],
   "source": [
    "SA(solution, Schwefel, 0.5, [-500, 500], linear_cooling_30)"
   ]
  },
  {
   "cell_type": "code",
   "execution_count": 8,
   "id": "d09fbd07",
   "metadata": {},
   "outputs": [
    {
     "name": "stdout",
     "output_type": "stream",
     "text": [
      "0/5980   temp:3000.000000\n",
      "500/5980   temp:2750.000000\n",
      "1000/5980   temp:2500.000000\n",
      "1500/5980   temp:2250.000000\n",
      "2000/5980   temp:2000.000000\n",
      "2500/5980   temp:1750.000000\n",
      "3000/5980   temp:1500.000000\n",
      "3500/5980   temp:1250.000000\n",
      "4000/5980   temp:1000.000000\n",
      "4500/5980   temp:750.000000\n",
      "5000/5980   temp:500.000000\n",
      "5500/5980   temp:250.000000\n"
     ]
    },
    {
     "data": {
      "text/plain": [
       "{'solution': array([ 361.19165315,  133.36754819,  248.5700017 ,  -75.0598453 ,\n",
       "         468.86427649,  431.28376656,  481.57210993,  107.76019298,\n",
       "        -326.64073332,  146.86318545]),\n",
       " 'evaluation': 3652.998170562566}"
      ]
     },
     "execution_count": 8,
     "metadata": {},
     "output_type": "execute_result"
    }
   ],
   "source": [
    "SA(solution, Schwefel, 0.5, [-500,500], linear_cooling_10)"
   ]
  },
  {
   "cell_type": "code",
   "execution_count": 9,
   "id": "329496a3",
   "metadata": {},
   "outputs": [
    {
     "name": "stdout",
     "output_type": "stream",
     "text": [
      "0/5980   temp:3000.000000\n",
      "500/5980   temp:2750.000000\n",
      "1000/5980   temp:2500.000000\n",
      "1500/5980   temp:2250.000000\n",
      "2000/5980   temp:2000.000000\n",
      "2500/5980   temp:1750.000000\n",
      "3000/5980   temp:1500.000000\n",
      "3500/5980   temp:1250.000000\n",
      "4000/5980   temp:1000.000000\n",
      "4500/5980   temp:750.000000\n",
      "5000/5980   temp:500.000000\n",
      "5500/5980   temp:250.000000\n"
     ]
    },
    {
     "data": {
      "text/plain": [
       "{'solution': array([ 307.84810871,  157.53480634,  293.26491182,  -80.91603304,\n",
       "         464.65875438,  429.94460226,  485.34114939,   94.29730415,\n",
       "        -294.01641039,  142.07395508]),\n",
       " 'evaluation': 4047.7656017620893}"
      ]
     },
     "execution_count": 9,
     "metadata": {},
     "output_type": "execute_result"
    }
   ],
   "source": [
    "SA(solution, Schwefel, 0.5, [-500,500], linear_cooling_10)"
   ]
  },
  {
   "cell_type": "code",
   "execution_count": 10,
   "id": "d46749fd",
   "metadata": {
    "scrolled": true
   },
   "outputs": [
    {
     "name": "stdout",
     "output_type": "stream",
     "text": [
      "0/5980   temp:3000.000000\n",
      "500/5980   temp:2750.000000\n",
      "1000/5980   temp:2500.000000\n",
      "1500/5980   temp:2250.000000\n",
      "2000/5980   temp:2000.000000\n",
      "2500/5980   temp:1750.000000\n",
      "3000/5980   temp:1500.000000\n",
      "3500/5980   temp:1250.000000\n",
      "4000/5980   temp:1000.000000\n",
      "4500/5980   temp:750.000000\n",
      "5000/5980   temp:500.000000\n",
      "5500/5980   temp:250.000000\n"
     ]
    },
    {
     "data": {
      "text/plain": [
       "{'solution': array([ 389.20541949,  190.14426673,  324.89450119,  -83.43963269,\n",
       "         486.44567534,  461.96876976,  453.42875661,  124.34017421,\n",
       "        -294.68806422,  106.99699303]),\n",
       " 'evaluation': 3408.551354259809}"
      ]
     },
     "execution_count": 10,
     "metadata": {},
     "output_type": "execute_result"
    }
   ],
   "source": [
    "SA(solution, Schwefel, 0.5, [-500,500], linear_cooling_10)"
   ]
  },
  {
   "cell_type": "markdown",
   "id": "3a2b6261",
   "metadata": {},
   "source": [
    "Better solutions were not found when cooling to 10K compared to 30K. "
   ]
  },
  {
   "cell_type": "markdown",
   "id": "fcb9f873",
   "metadata": {},
   "source": [
    "#### (b) Choose logarithmic cooling $T_{k}=T_{SA}/(1+ T_{SA} log(1+k)/3 \\sigma_{curr})$, where k is counter for number of cooling cycle) and $\\sigma_{curr}$ is an adjustable parameter,  with two initial temperature TSA = 3000K and 6000K. Use $\\sigma_{curr}$ = 1000 and k = 6000. Reconsider questions (a). Do these cooling schedules converge better than linear cooling? #### "
   ]
  },
  {
   "cell_type": "code",
   "execution_count": 11,
   "id": "57ddb143",
   "metadata": {},
   "outputs": [],
   "source": [
    "log_cooling_3000 = 3000 / (1 + (3000 * np.log(1 + np.arange(6000)) / (3 * 1000)))\n",
    "log_cooling_6000 = 6000 / (1 + (6000 * np.log(1 + np.arange(6000)) / (3 * 1000)))"
   ]
  },
  {
   "cell_type": "code",
   "execution_count": 12,
   "id": "7375dbf4",
   "metadata": {
    "scrolled": false
   },
   "outputs": [
    {
     "name": "stdout",
     "output_type": "stream",
     "text": [
      "0/6000   temp:3000.000000\n",
      "500/6000   temp:415.707877\n",
      "1000/6000   temp:379.326466\n",
      "1500/6000   temp:360.842054\n",
      "2000/6000   temp:348.780336\n",
      "2500/6000   temp:339.964687\n",
      "3000/6000   temp:333.085339\n",
      "3500/6000   temp:327.482176\n",
      "4000/6000   temp:322.778491\n",
      "4500/6000   temp:318.740173\n",
      "5000/6000   temp:315.212364\n",
      "5500/6000   temp:312.087616\n"
     ]
    },
    {
     "data": {
      "text/plain": [
       "{'solution': array([ 379.1015592 ,  115.44783205,  274.53656201,  -45.56012239,\n",
       "         479.40291051,  452.22696977,  481.74963711,   85.16184562,\n",
       "        -318.56498459,  124.65236057]),\n",
       " 'evaluation': 3781.4841668854624}"
      ]
     },
     "execution_count": 12,
     "metadata": {},
     "output_type": "execute_result"
    }
   ],
   "source": [
    "SA(solution,Schwefel,0.5,[-500,500],log_cooling_3000)"
   ]
  },
  {
   "cell_type": "code",
   "execution_count": 13,
   "id": "32b149c8",
   "metadata": {},
   "outputs": [
    {
     "name": "stdout",
     "output_type": "stream",
     "text": [
      "0/6000   temp:3000.000000\n",
      "500/6000   temp:415.707877\n",
      "1000/6000   temp:379.326466\n",
      "1500/6000   temp:360.842054\n",
      "2000/6000   temp:348.780336\n",
      "2500/6000   temp:339.964687\n",
      "3000/6000   temp:333.085339\n",
      "3500/6000   temp:327.482176\n",
      "4000/6000   temp:322.778491\n",
      "4500/6000   temp:318.740173\n",
      "5000/6000   temp:315.212364\n",
      "5500/6000   temp:312.087616\n"
     ]
    },
    {
     "data": {
      "text/plain": [
       "{'solution': array([ 389.43726023,  116.59174003,  259.32891901,  -87.7479204 ,\n",
       "         468.38962495,  450.84640655,  485.27501905,  135.69511591,\n",
       "        -317.29057803,  104.85457871]),\n",
       " 'evaluation': 3567.0864927743355}"
      ]
     },
     "execution_count": 13,
     "metadata": {},
     "output_type": "execute_result"
    }
   ],
   "source": [
    "SA(solution,Schwefel,0.5,[-500,500],log_cooling_3000)"
   ]
  },
  {
   "cell_type": "code",
   "execution_count": 14,
   "id": "42ddcaaf",
   "metadata": {},
   "outputs": [
    {
     "name": "stdout",
     "output_type": "stream",
     "text": [
      "0/6000   temp:3000.000000\n",
      "500/6000   temp:415.707877\n",
      "1000/6000   temp:379.326466\n",
      "1500/6000   temp:360.842054\n",
      "2000/6000   temp:348.780336\n",
      "2500/6000   temp:339.964687\n",
      "3000/6000   temp:333.085339\n",
      "3500/6000   temp:327.482176\n",
      "4000/6000   temp:322.778491\n",
      "4500/6000   temp:318.740173\n",
      "5000/6000   temp:315.212364\n",
      "5500/6000   temp:312.087616\n"
     ]
    },
    {
     "data": {
      "text/plain": [
       "{'solution': array([ 360.94981628,  103.68811437,  268.07967638,  -88.34457881,\n",
       "         467.30476988,  430.22674341,  482.81346011,  152.46068373,\n",
       "        -262.91879107,  109.06679009]),\n",
       " 'evaluation': 3785.9323380572278}"
      ]
     },
     "execution_count": 14,
     "metadata": {},
     "output_type": "execute_result"
    }
   ],
   "source": [
    "SA(solution,Schwefel,0.5,[-500,500],log_cooling_3000)"
   ]
  },
  {
   "cell_type": "code",
   "execution_count": 15,
   "id": "e9c5769a",
   "metadata": {
    "scrolled": true
   },
   "outputs": [
    {
     "name": "stdout",
     "output_type": "stream",
     "text": [
      "0/6000   temp:6000.000000\n",
      "500/6000   temp:446.654152\n",
      "1000/6000   temp:404.926346\n",
      "1500/6000   temp:383.931847\n",
      "2000/6000   temp:370.306260\n",
      "2500/6000   temp:360.384346\n",
      "3000/6000   temp:352.663160\n",
      "3500/6000   temp:346.388168\n",
      "4000/6000   temp:341.130065\n",
      "4500/6000   temp:336.622703\n",
      "5000/6000   temp:332.690384\n",
      "5500/6000   temp:329.211417\n"
     ]
    },
    {
     "data": {
      "text/plain": [
       "{'solution': array([ 370.43842189,  130.36702821,  242.20792868,  -41.17264237,\n",
       "         482.23706775,  458.11128742,  459.30151423,   77.67910917,\n",
       "        -330.79978187,  119.69864245]),\n",
       " 'evaluation': 3494.6826094294574}"
      ]
     },
     "execution_count": 15,
     "metadata": {},
     "output_type": "execute_result"
    }
   ],
   "source": [
    "SA(solution,Schwefel,0.5,[-500,500],log_cooling_6000)"
   ]
  },
  {
   "cell_type": "code",
   "execution_count": 16,
   "id": "1f674af9",
   "metadata": {},
   "outputs": [
    {
     "name": "stdout",
     "output_type": "stream",
     "text": [
      "0/6000   temp:6000.000000\n",
      "500/6000   temp:446.654152\n",
      "1000/6000   temp:404.926346\n",
      "1500/6000   temp:383.931847\n",
      "2000/6000   temp:370.306260\n",
      "2500/6000   temp:360.384346\n",
      "3000/6000   temp:352.663160\n",
      "3500/6000   temp:346.388168\n",
      "4000/6000   temp:341.130065\n",
      "4500/6000   temp:336.622703\n",
      "5000/6000   temp:332.690384\n",
      "5500/6000   temp:329.211417\n"
     ]
    },
    {
     "data": {
      "text/plain": [
       "{'solution': array([ 376.37810962,  137.27899452,  300.47725337,  -58.65430562,\n",
       "         488.62636205,  434.83466609,  465.07031517,   88.34458406,\n",
       "        -308.27743653,  165.27829686]),\n",
       " 'evaluation': 3576.2470556493067}"
      ]
     },
     "execution_count": 16,
     "metadata": {},
     "output_type": "execute_result"
    }
   ],
   "source": [
    "SA(solution,Schwefel,0.5,[-500,500],log_cooling_6000)"
   ]
  },
  {
   "cell_type": "code",
   "execution_count": 17,
   "id": "703b48ed",
   "metadata": {},
   "outputs": [
    {
     "name": "stdout",
     "output_type": "stream",
     "text": [
      "0/6000   temp:6000.000000\n",
      "500/6000   temp:446.654152\n",
      "1000/6000   temp:404.926346\n",
      "1500/6000   temp:383.931847\n",
      "2000/6000   temp:370.306260\n",
      "2500/6000   temp:360.384346\n",
      "3000/6000   temp:352.663160\n",
      "3500/6000   temp:346.388168\n",
      "4000/6000   temp:341.130065\n",
      "4500/6000   temp:336.622703\n",
      "5000/6000   temp:332.690384\n",
      "5500/6000   temp:329.211417\n"
     ]
    },
    {
     "data": {
      "text/plain": [
       "{'solution': array([ 377.58719172,  143.22565626,  295.33079413,  -56.34500951,\n",
       "         449.42747435,  456.50305452,  470.0949483 ,   99.17322524,\n",
       "        -300.77828465,  159.6908259 ]),\n",
       " 'evaluation': 3418.975384466998}"
      ]
     },
     "execution_count": 17,
     "metadata": {},
     "output_type": "execute_result"
    }
   ],
   "source": [
    "SA(solution,Schwefel,0.5,[-500,500],log_cooling_6000)"
   ]
  },
  {
   "cell_type": "markdown",
   "id": "be065820",
   "metadata": {},
   "source": [
    "The logarithmic cooling schedules do not appear to cause the simulated annealing function to converge better than the linear cooling schedules. The logarthimic cooling schedules lead to evaluations that are more consistent compared to the linear cooling schedules, but the simulated annealing algorithm is converging to local minima. "
   ]
  },
  {
   "cell_type": "markdown",
   "id": "a2cc3941",
   "metadata": {},
   "source": [
    "#### (c) Create your own annealing schedule (cooling and heating cycles) to see if you can find better solutions. Use a local optimization technique on your CSA answer, can you find even better solution? ####"
   ]
  },
  {
   "cell_type": "code",
   "execution_count": 18,
   "id": "8f1e3895",
   "metadata": {},
   "outputs": [],
   "source": [
    "schedule = np.append(linear_cooling_10, np.linspace(linear_cooling_10[-1], 2000, 200))\n",
    "schedule = np.append(schedule, np.linspace(schedule[-1], 100, 2000))\n",
    "schedule=np.append(schedule,np.linspace(schedule[-1],3000,400))\n",
    "schedule=np.append(schedule,np.linspace(schedule[-1],50,5000))\n",
    "schedule=np.append(schedule,np.linspace(schedule[-1],2500,200))\n",
    "schedule=np.append(schedule,np.linspace(schedule[-1],5,3000))"
   ]
  },
  {
   "cell_type": "code",
   "execution_count": 19,
   "id": "057b2e57",
   "metadata": {},
   "outputs": [
    {
     "data": {
      "image/png": "[encoded data removed]",
      "text/plain": [
       "<Figure size 640x480 with 1 Axes>"
      ]
     },
     "metadata": {},
     "output_type": "display_data"
    }
   ],
   "source": [
    "plt.plot(schedule);"
   ]
  },
  {
   "cell_type": "code",
   "execution_count": 20,
   "id": "4b48b524",
   "metadata": {
    "scrolled": true
   },
   "outputs": [
    {
     "name": "stdout",
     "output_type": "stream",
     "text": [
      "0/16780   temp:3000.000000\n",
      "500/16780   temp:2750.000000\n",
      "1000/16780   temp:2500.000000\n",
      "1500/16780   temp:2250.000000\n",
      "2000/16780   temp:2000.000000\n",
      "2500/16780   temp:1750.000000\n",
      "3000/16780   temp:1500.000000\n",
      "3500/16780   temp:1250.000000\n",
      "4000/16780   temp:1000.000000\n",
      "4500/16780   temp:750.000000\n",
      "5000/16780   temp:500.000000\n",
      "5500/16780   temp:250.000000\n",
      "6000/16780   temp:210.449749\n",
      "6500/16780   temp:1695.847924\n",
      "7000/16780   temp:1220.610305\n",
      "7500/16780   temp:745.372686\n",
      "8000/16780   temp:270.135068\n",
      "8500/16780   temp:2425.814536\n",
      "9000/16780   temp:2752.150430\n",
      "9500/16780   temp:2457.091418\n",
      "10000/16780   temp:2162.032406\n",
      "10500/16780   temp:1866.973395\n",
      "11000/16780   temp:1571.914383\n",
      "11500/16780   temp:1276.855371\n",
      "12000/16780   temp:981.796359\n",
      "12500/16780   temp:686.737347\n",
      "13000/16780   temp:391.678336\n",
      "13500/16780   temp:96.619324\n",
      "14000/16780   temp:2316.972324\n",
      "14500/16780   temp:1901.000333\n",
      "15000/16780   temp:1485.028343\n",
      "15500/16780   temp:1069.056352\n",
      "16000/16780   temp:653.084361\n",
      "16500/16780   temp:237.112371\n"
     ]
    },
    {
     "data": {
      "text/plain": [
       "{'solution': array([ 314.20956619,   95.29308966,  213.49229391, -124.39242095,\n",
       "         469.66204411,  395.72493141,  485.74829094,  141.16119393,\n",
       "        -309.67848787,  133.43976414]),\n",
       " 'evaluation': 3634.6212542466533}"
      ]
     },
     "execution_count": 20,
     "metadata": {},
     "output_type": "execute_result"
    }
   ],
   "source": [
    "SA(solution,Schwefel,0.5,[-500,500],schedule)"
   ]
  },
  {
   "cell_type": "code",
   "execution_count": 21,
   "id": "c20ec294",
   "metadata": {},
   "outputs": [
    {
     "name": "stdout",
     "output_type": "stream",
     "text": [
      "0/16780   temp:3000.000000\n",
      "500/16780   temp:2750.000000\n",
      "1000/16780   temp:2500.000000\n",
      "1500/16780   temp:2250.000000\n",
      "2000/16780   temp:2000.000000\n",
      "2500/16780   temp:1750.000000\n",
      "3000/16780   temp:1500.000000\n",
      "3500/16780   temp:1250.000000\n",
      "4000/16780   temp:1000.000000\n",
      "4500/16780   temp:750.000000\n",
      "5000/16780   temp:500.000000\n",
      "5500/16780   temp:250.000000\n",
      "6000/16780   temp:210.449749\n",
      "6500/16780   temp:1695.847924\n",
      "7000/16780   temp:1220.610305\n",
      "7500/16780   temp:745.372686\n",
      "8000/16780   temp:270.135068\n",
      "8500/16780   temp:2425.814536\n",
      "9000/16780   temp:2752.150430\n",
      "9500/16780   temp:2457.091418\n",
      "10000/16780   temp:2162.032406\n",
      "10500/16780   temp:1866.973395\n",
      "11000/16780   temp:1571.914383\n",
      "11500/16780   temp:1276.855371\n",
      "12000/16780   temp:981.796359\n",
      "12500/16780   temp:686.737347\n",
      "13000/16780   temp:391.678336\n",
      "13500/16780   temp:96.619324\n",
      "14000/16780   temp:2316.972324\n",
      "14500/16780   temp:1901.000333\n",
      "15000/16780   temp:1485.028343\n",
      "15500/16780   temp:1069.056352\n",
      "16000/16780   temp:653.084361\n",
      "16500/16780   temp:237.112371\n",
      "Optimization terminated successfully.\n",
      "         Current function value: 1480.553281\n",
      "         Iterations: 17\n",
      "         Function evaluations: 242\n",
      "         Gradient evaluations: 22\n"
     ]
    },
    {
     "data": {
      "text/plain": [
       "      fun: 1480.5532807043842\n",
       " hess_inv: array([[ 3.24775068,  0.06473292, -0.3736656 ,  0.51925797, -0.09511262,\n",
       "         0.14928773,  0.27953726, -0.5329714 , -0.04047756,  0.14162224],\n",
       "       [ 0.06473292,  3.48451783, -0.0627705 ,  0.10110864, -0.04795578,\n",
       "        -0.07882364, -0.05085892, -0.01829774, -0.01247571,  0.08866062],\n",
       "       [-0.3736656 , -0.0627705 ,  1.51795169, -0.29406192,  0.22109379,\n",
       "         0.07832732,  0.15303898,  0.20095444,  0.15853608,  0.79510208],\n",
       "       [ 0.51925797,  0.10110864, -0.29406192,  1.22293848, -0.11495521,\n",
       "         0.00477374, -0.02795767, -0.17310746, -0.07386705, -0.3128268 ],\n",
       "       [-0.09511262, -0.04795578,  0.22109379, -0.11495521,  1.56928742,\n",
       "         0.08007354,  0.56360761,  0.21909226,  0.10145606, -0.36538809],\n",
       "       [ 0.14928773, -0.07882364,  0.07832732,  0.00477374,  0.08007354,\n",
       "         0.93028744,  0.10682839,  0.02975821,  0.05006236,  0.06129292],\n",
       "       [ 0.27953726, -0.05085892,  0.15303898, -0.02795767,  0.56360761,\n",
       "         0.10682839,  1.62036789,  0.13143006,  0.09279723, -0.37165131],\n",
       "       [-0.5329714 , -0.01829774,  0.20095444, -0.17310746,  0.21909226,\n",
       "         0.02975821,  0.13143006,  1.19446691,  0.05606972, -0.03203135],\n",
       "       [-0.04047756, -0.01247571,  0.15853608, -0.07386705,  0.10145606,\n",
       "         0.05006236,  0.09279723,  0.05606972,  1.05329031,  0.23603456],\n",
       "       [ 0.14162224,  0.08866062,  0.79510208, -0.3128268 , -0.36538809,\n",
       "         0.06129292, -0.37165131, -0.03203135,  0.23603456,  3.57097162]])\n",
       "      jac: array([0., 0., 0., 0., 0., 0., 0., 0., 0., 0.])\n",
       "  message: 'Optimization terminated successfully.'\n",
       "     nfev: 242\n",
       "      nit: 17\n",
       "     njev: 22\n",
       "   status: 0\n",
       "  success: True\n",
       "        x: array([ 420.96878733,  203.8142749 ,  203.81426247,   65.54792239,\n",
       "        420.9687401 ,  420.96873904,  420.96873802,   65.54788423,\n",
       "       -302.52494014,  203.81426263])"
      ]
     },
     "execution_count": 21,
     "metadata": {},
     "output_type": "execute_result"
    }
   ],
   "source": [
    "CSA_solution = SA(solution,Schwefel,0.5,[-500,500],schedule)\n",
    "minimize(Schwefel, CSA_solution['solution'], method='BFGS', options={'disp': True, 'gtol': 1e-5})"
   ]
  },
  {
   "cell_type": "markdown",
   "id": "d7a4d70a",
   "metadata": {},
   "source": [
    "A better solution was not necessarily found by using my own annealing schedule of cooling and heating cycles. However, using the solution calculated by my SA function, scipy's BFGS function was able to converge to a better local minimum that evaluates between 1000-2000 in comparison to simulated annealing's solution evaluation of ~3000-4000. "
   ]
  },
  {
   "cell_type": "markdown",
   "id": "ebd98423",
   "metadata": {},
   "source": [
    "## 2. Clustering and Simulated Annealing ##"
   ]
  },
  {
   "cell_type": "markdown",
   "id": "fe3f2691",
   "metadata": {},
   "source": [
    "Clustering is a widely used technique in exploratory data \n",
    "analysis that we will examine later using unsupervised learning for classification of objects into groups. But \n",
    "for now we will consider a popular meta-heuristic for solving it using CSA. In this case we would like to \n",
    "cluster N data points into K clusters by solving the minimization of the following cost function:  "
   ]
  },
  {
   "cell_type": "markdown",
   "id": "49be0fca",
   "metadata": {},
   "source": [
    "$$ J(N, K)= \\sum_{i=1}^{N} \\sum_{j=1}^{K} w_{ij}d_{ij}^2 $$\n",
    "\n",
    "$$ w_{ij} = \n",
    "\\begin{cases}\n",
    "      1 & \\text{if point i is assigned to cluster j}\\\\\n",
    "      0 & \\text{otherwise}\\\\\n",
    "    \\end{cases}        , 1 \\leq i \\leq N and 1 \\leq j \\leq K $$"
   ]
  },
  {
   "cell_type": "markdown",
   "id": "90cd4011",
   "metadata": {},
   "source": [
    "where 𝑑𝑖𝑗 is the Euclidean distance between point 𝑖 and the center of cluster 𝑗, and condition on 𝑤𝑖𝑗 ensures \n",
    "that a point is defined to be in one of the distinct clusters 𝐾.  "
   ]
  },
  {
   "cell_type": "markdown",
   "id": "a2abdbff",
   "metadata": {},
   "source": [
    "In this  problem  you  are  given  a  data  set  of 𝑁 =178  wines,  all \n",
    "grown  in  the  same  region  in  Italy,  but  derived  from  𝐾=3  different \n",
    "cultivars. You can find this dataset on BCourse -> Files -> Datasets -> \n",
    "wines.csv. A chemical analysis was used to determine the quantities of \n",
    "13  chemical  constituents  found  in  each  of  the  wines,  and  our  job  is  to \n",
    "classify each wine into one of the three different cultivars based on those \n",
    "chemical descriptors. Use CSA to determine the most optimal clustering \n",
    "of the 178 wines into their most likely cultivar, given the following specifications "
   ]
  },
  {
   "cell_type": "markdown",
   "id": "9938b456",
   "metadata": {},
   "source": [
    "#### (a) Normalize your chemical descriptor data for each attribute by subtracting off the mean and dividing by the standard deviation. ####"
   ]
  },
  {
   "cell_type": "code",
   "execution_count": 22,
   "id": "45a7c7d3",
   "metadata": {},
   "outputs": [
    {
     "data": {
      "text/html": [
       "<div>\n",
       "<style scoped>\n",
       "    .dataframe tbody tr th:only-of-type {\n",
       "        vertical-align: middle;\n",
       "    }\n",
       "\n",
       "    .dataframe tbody tr th {\n",
       "        vertical-align: top;\n",
       "    }\n",
       "\n",
       "    .dataframe thead th {\n",
       "        text-align: right;\n",
       "    }\n",
       "</style>\n",
       "<table border=\"1\" class=\"dataframe\">\n",
       "  <thead>\n",
       "    <tr style=\"text-align: right;\">\n",
       "      <th></th>\n",
       "      <th>Alcohol %</th>\n",
       "      <th>Malic Acid</th>\n",
       "      <th>Ash</th>\n",
       "      <th>Alkalinity</th>\n",
       "      <th>Mg</th>\n",
       "      <th>Phenols</th>\n",
       "      <th>Flavanoids</th>\n",
       "      <th>Phenols.1</th>\n",
       "      <th>Proantho-cyanins</th>\n",
       "      <th>Color intensity</th>\n",
       "      <th>Hue</th>\n",
       "      <th>OD280 315</th>\n",
       "      <th>Proline</th>\n",
       "    </tr>\n",
       "  </thead>\n",
       "  <tbody>\n",
       "    <tr>\n",
       "      <th>0</th>\n",
       "      <td>14.23</td>\n",
       "      <td>1.71</td>\n",
       "      <td>2.43</td>\n",
       "      <td>15.6</td>\n",
       "      <td>127</td>\n",
       "      <td>2.80</td>\n",
       "      <td>3.06</td>\n",
       "      <td>0.28</td>\n",
       "      <td>2.29</td>\n",
       "      <td>5.64</td>\n",
       "      <td>1.04</td>\n",
       "      <td>3.92</td>\n",
       "      <td>1065</td>\n",
       "    </tr>\n",
       "    <tr>\n",
       "      <th>1</th>\n",
       "      <td>13.24</td>\n",
       "      <td>2.59</td>\n",
       "      <td>2.87</td>\n",
       "      <td>21.0</td>\n",
       "      <td>118</td>\n",
       "      <td>2.80</td>\n",
       "      <td>2.69</td>\n",
       "      <td>0.39</td>\n",
       "      <td>1.82</td>\n",
       "      <td>4.32</td>\n",
       "      <td>1.04</td>\n",
       "      <td>2.93</td>\n",
       "      <td>735</td>\n",
       "    </tr>\n",
       "    <tr>\n",
       "      <th>2</th>\n",
       "      <td>14.83</td>\n",
       "      <td>1.64</td>\n",
       "      <td>2.17</td>\n",
       "      <td>14.0</td>\n",
       "      <td>97</td>\n",
       "      <td>2.80</td>\n",
       "      <td>2.98</td>\n",
       "      <td>0.29</td>\n",
       "      <td>1.98</td>\n",
       "      <td>5.20</td>\n",
       "      <td>1.08</td>\n",
       "      <td>2.85</td>\n",
       "      <td>1045</td>\n",
       "    </tr>\n",
       "    <tr>\n",
       "      <th>3</th>\n",
       "      <td>14.12</td>\n",
       "      <td>1.48</td>\n",
       "      <td>2.32</td>\n",
       "      <td>16.8</td>\n",
       "      <td>95</td>\n",
       "      <td>2.20</td>\n",
       "      <td>2.43</td>\n",
       "      <td>0.26</td>\n",
       "      <td>1.57</td>\n",
       "      <td>5.00</td>\n",
       "      <td>1.17</td>\n",
       "      <td>2.82</td>\n",
       "      <td>1280</td>\n",
       "    </tr>\n",
       "    <tr>\n",
       "      <th>4</th>\n",
       "      <td>13.75</td>\n",
       "      <td>1.73</td>\n",
       "      <td>2.41</td>\n",
       "      <td>16.0</td>\n",
       "      <td>89</td>\n",
       "      <td>2.60</td>\n",
       "      <td>2.76</td>\n",
       "      <td>0.29</td>\n",
       "      <td>1.81</td>\n",
       "      <td>5.60</td>\n",
       "      <td>1.15</td>\n",
       "      <td>2.90</td>\n",
       "      <td>1320</td>\n",
       "    </tr>\n",
       "    <tr>\n",
       "      <th>...</th>\n",
       "      <td>...</td>\n",
       "      <td>...</td>\n",
       "      <td>...</td>\n",
       "      <td>...</td>\n",
       "      <td>...</td>\n",
       "      <td>...</td>\n",
       "      <td>...</td>\n",
       "      <td>...</td>\n",
       "      <td>...</td>\n",
       "      <td>...</td>\n",
       "      <td>...</td>\n",
       "      <td>...</td>\n",
       "      <td>...</td>\n",
       "    </tr>\n",
       "    <tr>\n",
       "      <th>173</th>\n",
       "      <td>13.40</td>\n",
       "      <td>4.60</td>\n",
       "      <td>2.86</td>\n",
       "      <td>25.0</td>\n",
       "      <td>112</td>\n",
       "      <td>1.98</td>\n",
       "      <td>0.96</td>\n",
       "      <td>0.27</td>\n",
       "      <td>1.11</td>\n",
       "      <td>8.50</td>\n",
       "      <td>0.67</td>\n",
       "      <td>1.92</td>\n",
       "      <td>630</td>\n",
       "    </tr>\n",
       "    <tr>\n",
       "      <th>174</th>\n",
       "      <td>13.27</td>\n",
       "      <td>4.28</td>\n",
       "      <td>2.26</td>\n",
       "      <td>20.0</td>\n",
       "      <td>120</td>\n",
       "      <td>1.59</td>\n",
       "      <td>0.69</td>\n",
       "      <td>0.43</td>\n",
       "      <td>1.35</td>\n",
       "      <td>10.20</td>\n",
       "      <td>0.59</td>\n",
       "      <td>1.56</td>\n",
       "      <td>835</td>\n",
       "    </tr>\n",
       "    <tr>\n",
       "      <th>175</th>\n",
       "      <td>13.17</td>\n",
       "      <td>2.59</td>\n",
       "      <td>2.37</td>\n",
       "      <td>20.0</td>\n",
       "      <td>120</td>\n",
       "      <td>1.65</td>\n",
       "      <td>0.68</td>\n",
       "      <td>0.53</td>\n",
       "      <td>1.46</td>\n",
       "      <td>9.30</td>\n",
       "      <td>0.60</td>\n",
       "      <td>1.62</td>\n",
       "      <td>840</td>\n",
       "    </tr>\n",
       "    <tr>\n",
       "      <th>176</th>\n",
       "      <td>14.13</td>\n",
       "      <td>4.10</td>\n",
       "      <td>2.74</td>\n",
       "      <td>24.5</td>\n",
       "      <td>96</td>\n",
       "      <td>2.05</td>\n",
       "      <td>0.76</td>\n",
       "      <td>0.56</td>\n",
       "      <td>1.35</td>\n",
       "      <td>9.20</td>\n",
       "      <td>0.61</td>\n",
       "      <td>1.60</td>\n",
       "      <td>560</td>\n",
       "    </tr>\n",
       "    <tr>\n",
       "      <th>177</th>\n",
       "      <td>12.25</td>\n",
       "      <td>1.73</td>\n",
       "      <td>2.12</td>\n",
       "      <td>19.0</td>\n",
       "      <td>80</td>\n",
       "      <td>1.65</td>\n",
       "      <td>2.03</td>\n",
       "      <td>0.37</td>\n",
       "      <td>1.63</td>\n",
       "      <td>3.40</td>\n",
       "      <td>1.00</td>\n",
       "      <td>3.17</td>\n",
       "      <td>510</td>\n",
       "    </tr>\n",
       "  </tbody>\n",
       "</table>\n",
       "<p>178 rows × 13 columns</p>\n",
       "</div>"
      ],
      "text/plain": [
       "     Alcohol %  Malic Acid   Ash  Alkalinity   Mg  Phenols  Flavanoids  \\\n",
       "0        14.23        1.71  2.43        15.6  127     2.80        3.06   \n",
       "1        13.24        2.59  2.87        21.0  118     2.80        2.69   \n",
       "2        14.83        1.64  2.17        14.0   97     2.80        2.98   \n",
       "3        14.12        1.48  2.32        16.8   95     2.20        2.43   \n",
       "4        13.75        1.73  2.41        16.0   89     2.60        2.76   \n",
       "..         ...         ...   ...         ...  ...      ...         ...   \n",
       "173      13.40        4.60  2.86        25.0  112     1.98        0.96   \n",
       "174      13.27        4.28  2.26        20.0  120     1.59        0.69   \n",
       "175      13.17        2.59  2.37        20.0  120     1.65        0.68   \n",
       "176      14.13        4.10  2.74        24.5   96     2.05        0.76   \n",
       "177      12.25        1.73  2.12        19.0   80     1.65        2.03   \n",
       "\n",
       "     Phenols.1  Proantho-cyanins  Color intensity   Hue  OD280 315  Proline  \n",
       "0         0.28              2.29             5.64  1.04       3.92     1065  \n",
       "1         0.39              1.82             4.32  1.04       2.93      735  \n",
       "2         0.29              1.98             5.20  1.08       2.85     1045  \n",
       "3         0.26              1.57             5.00  1.17       2.82     1280  \n",
       "4         0.29              1.81             5.60  1.15       2.90     1320  \n",
       "..         ...               ...              ...   ...        ...      ...  \n",
       "173       0.27              1.11             8.50  0.67       1.92      630  \n",
       "174       0.43              1.35            10.20  0.59       1.56      835  \n",
       "175       0.53              1.46             9.30  0.60       1.62      840  \n",
       "176       0.56              1.35             9.20  0.61       1.60      560  \n",
       "177       0.37              1.63             3.40  1.00       3.17      510  \n",
       "\n",
       "[178 rows x 13 columns]"
      ]
     },
     "execution_count": 22,
     "metadata": {},
     "output_type": "execute_result"
    }
   ],
   "source": [
    "df = pd.read_csv('wines.csv')\n",
    "wine_features = df.drop(['Start assignment', 'ranking'], axis=1)\n",
    "wine_features"
   ]
  },
  {
   "cell_type": "code",
   "execution_count": 23,
   "id": "486a3913",
   "metadata": {},
   "outputs": [
    {
     "data": {
      "text/html": [
       "<div>\n",
       "<style scoped>\n",
       "    .dataframe tbody tr th:only-of-type {\n",
       "        vertical-align: middle;\n",
       "    }\n",
       "\n",
       "    .dataframe tbody tr th {\n",
       "        vertical-align: top;\n",
       "    }\n",
       "\n",
       "    .dataframe thead th {\n",
       "        text-align: right;\n",
       "    }\n",
       "</style>\n",
       "<table border=\"1\" class=\"dataframe\">\n",
       "  <thead>\n",
       "    <tr style=\"text-align: right;\">\n",
       "      <th></th>\n",
       "      <th>Alcohol %</th>\n",
       "      <th>Malic Acid</th>\n",
       "      <th>Ash</th>\n",
       "      <th>Alkalinity</th>\n",
       "      <th>Mg</th>\n",
       "      <th>Phenols</th>\n",
       "      <th>Flavanoids</th>\n",
       "      <th>Phenols.1</th>\n",
       "      <th>Proantho-cyanins</th>\n",
       "      <th>Color intensity</th>\n",
       "      <th>Hue</th>\n",
       "      <th>OD280 315</th>\n",
       "      <th>Proline</th>\n",
       "    </tr>\n",
       "  </thead>\n",
       "  <tbody>\n",
       "    <tr>\n",
       "      <th>0</th>\n",
       "      <td>1.514341</td>\n",
       "      <td>-0.560668</td>\n",
       "      <td>0.231400</td>\n",
       "      <td>-1.166303</td>\n",
       "      <td>1.908522</td>\n",
       "      <td>0.806722</td>\n",
       "      <td>1.031908</td>\n",
       "      <td>-0.657708</td>\n",
       "      <td>1.221438</td>\n",
       "      <td>0.251009</td>\n",
       "      <td>0.361158</td>\n",
       "      <td>1.842721</td>\n",
       "      <td>1.010159</td>\n",
       "    </tr>\n",
       "    <tr>\n",
       "      <th>1</th>\n",
       "      <td>0.294868</td>\n",
       "      <td>0.227053</td>\n",
       "      <td>1.835226</td>\n",
       "      <td>0.450674</td>\n",
       "      <td>1.278379</td>\n",
       "      <td>0.806722</td>\n",
       "      <td>0.661485</td>\n",
       "      <td>0.226158</td>\n",
       "      <td>0.400275</td>\n",
       "      <td>-0.318377</td>\n",
       "      <td>0.361158</td>\n",
       "      <td>0.448336</td>\n",
       "      <td>-0.037767</td>\n",
       "    </tr>\n",
       "    <tr>\n",
       "      <th>2</th>\n",
       "      <td>2.253415</td>\n",
       "      <td>-0.623328</td>\n",
       "      <td>-0.716315</td>\n",
       "      <td>-1.645408</td>\n",
       "      <td>-0.191954</td>\n",
       "      <td>0.806722</td>\n",
       "      <td>0.951817</td>\n",
       "      <td>-0.577356</td>\n",
       "      <td>0.679820</td>\n",
       "      <td>0.061213</td>\n",
       "      <td>0.536158</td>\n",
       "      <td>0.335659</td>\n",
       "      <td>0.946649</td>\n",
       "    </tr>\n",
       "    <tr>\n",
       "      <th>3</th>\n",
       "      <td>1.378844</td>\n",
       "      <td>-0.766550</td>\n",
       "      <td>-0.169557</td>\n",
       "      <td>-0.806975</td>\n",
       "      <td>-0.331985</td>\n",
       "      <td>-0.151973</td>\n",
       "      <td>0.401188</td>\n",
       "      <td>-0.818411</td>\n",
       "      <td>-0.036514</td>\n",
       "      <td>-0.025057</td>\n",
       "      <td>0.929908</td>\n",
       "      <td>0.293405</td>\n",
       "      <td>1.692900</td>\n",
       "    </tr>\n",
       "    <tr>\n",
       "      <th>4</th>\n",
       "      <td>0.923081</td>\n",
       "      <td>-0.542765</td>\n",
       "      <td>0.158499</td>\n",
       "      <td>-1.046527</td>\n",
       "      <td>-0.752080</td>\n",
       "      <td>0.487157</td>\n",
       "      <td>0.731565</td>\n",
       "      <td>-0.577356</td>\n",
       "      <td>0.382804</td>\n",
       "      <td>0.233755</td>\n",
       "      <td>0.842408</td>\n",
       "      <td>0.406082</td>\n",
       "      <td>1.819921</td>\n",
       "    </tr>\n",
       "    <tr>\n",
       "      <th>...</th>\n",
       "      <td>...</td>\n",
       "      <td>...</td>\n",
       "      <td>...</td>\n",
       "      <td>...</td>\n",
       "      <td>...</td>\n",
       "      <td>...</td>\n",
       "      <td>...</td>\n",
       "      <td>...</td>\n",
       "      <td>...</td>\n",
       "      <td>...</td>\n",
       "      <td>...</td>\n",
       "      <td>...</td>\n",
       "      <td>...</td>\n",
       "    </tr>\n",
       "    <tr>\n",
       "      <th>173</th>\n",
       "      <td>0.491955</td>\n",
       "      <td>2.026281</td>\n",
       "      <td>1.798775</td>\n",
       "      <td>1.648436</td>\n",
       "      <td>0.858284</td>\n",
       "      <td>-0.503494</td>\n",
       "      <td>-1.070491</td>\n",
       "      <td>-0.738059</td>\n",
       "      <td>-0.840205</td>\n",
       "      <td>1.484679</td>\n",
       "      <td>-1.257591</td>\n",
       "      <td>-0.974218</td>\n",
       "      <td>-0.371199</td>\n",
       "    </tr>\n",
       "    <tr>\n",
       "      <th>174</th>\n",
       "      <td>0.331822</td>\n",
       "      <td>1.739837</td>\n",
       "      <td>-0.388260</td>\n",
       "      <td>0.151234</td>\n",
       "      <td>1.418411</td>\n",
       "      <td>-1.126646</td>\n",
       "      <td>-1.340800</td>\n",
       "      <td>0.547563</td>\n",
       "      <td>-0.420888</td>\n",
       "      <td>2.217979</td>\n",
       "      <td>-1.607590</td>\n",
       "      <td>-1.481267</td>\n",
       "      <td>0.279786</td>\n",
       "    </tr>\n",
       "    <tr>\n",
       "      <th>175</th>\n",
       "      <td>0.208643</td>\n",
       "      <td>0.227053</td>\n",
       "      <td>0.012696</td>\n",
       "      <td>0.151234</td>\n",
       "      <td>1.418411</td>\n",
       "      <td>-1.030776</td>\n",
       "      <td>-1.350811</td>\n",
       "      <td>1.351077</td>\n",
       "      <td>-0.228701</td>\n",
       "      <td>1.829761</td>\n",
       "      <td>-1.563840</td>\n",
       "      <td>-1.396759</td>\n",
       "      <td>0.295664</td>\n",
       "    </tr>\n",
       "    <tr>\n",
       "      <th>176</th>\n",
       "      <td>1.391162</td>\n",
       "      <td>1.578712</td>\n",
       "      <td>1.361368</td>\n",
       "      <td>1.498716</td>\n",
       "      <td>-0.261969</td>\n",
       "      <td>-0.391646</td>\n",
       "      <td>-1.270720</td>\n",
       "      <td>1.592131</td>\n",
       "      <td>-0.420888</td>\n",
       "      <td>1.786626</td>\n",
       "      <td>-1.520090</td>\n",
       "      <td>-1.424928</td>\n",
       "      <td>-0.593486</td>\n",
       "    </tr>\n",
       "    <tr>\n",
       "      <th>177</th>\n",
       "      <td>-0.924604</td>\n",
       "      <td>-0.542765</td>\n",
       "      <td>-0.898568</td>\n",
       "      <td>-0.148206</td>\n",
       "      <td>-1.382223</td>\n",
       "      <td>-1.030776</td>\n",
       "      <td>0.000731</td>\n",
       "      <td>0.065455</td>\n",
       "      <td>0.068316</td>\n",
       "      <td>-0.715222</td>\n",
       "      <td>0.186159</td>\n",
       "      <td>0.786369</td>\n",
       "      <td>-0.752263</td>\n",
       "    </tr>\n",
       "  </tbody>\n",
       "</table>\n",
       "<p>178 rows × 13 columns</p>\n",
       "</div>"
      ],
      "text/plain": [
       "     Alcohol %  Malic Acid       Ash  Alkalinity        Mg   Phenols  \\\n",
       "0     1.514341   -0.560668  0.231400   -1.166303  1.908522  0.806722   \n",
       "1     0.294868    0.227053  1.835226    0.450674  1.278379  0.806722   \n",
       "2     2.253415   -0.623328 -0.716315   -1.645408 -0.191954  0.806722   \n",
       "3     1.378844   -0.766550 -0.169557   -0.806975 -0.331985 -0.151973   \n",
       "4     0.923081   -0.542765  0.158499   -1.046527 -0.752080  0.487157   \n",
       "..         ...         ...       ...         ...       ...       ...   \n",
       "173   0.491955    2.026281  1.798775    1.648436  0.858284 -0.503494   \n",
       "174   0.331822    1.739837 -0.388260    0.151234  1.418411 -1.126646   \n",
       "175   0.208643    0.227053  0.012696    0.151234  1.418411 -1.030776   \n",
       "176   1.391162    1.578712  1.361368    1.498716 -0.261969 -0.391646   \n",
       "177  -0.924604   -0.542765 -0.898568   -0.148206 -1.382223 -1.030776   \n",
       "\n",
       "     Flavanoids  Phenols.1  Proantho-cyanins  Color intensity       Hue  \\\n",
       "0      1.031908  -0.657708          1.221438         0.251009  0.361158   \n",
       "1      0.661485   0.226158          0.400275        -0.318377  0.361158   \n",
       "2      0.951817  -0.577356          0.679820         0.061213  0.536158   \n",
       "3      0.401188  -0.818411         -0.036514        -0.025057  0.929908   \n",
       "4      0.731565  -0.577356          0.382804         0.233755  0.842408   \n",
       "..          ...        ...               ...              ...       ...   \n",
       "173   -1.070491  -0.738059         -0.840205         1.484679 -1.257591   \n",
       "174   -1.340800   0.547563         -0.420888         2.217979 -1.607590   \n",
       "175   -1.350811   1.351077         -0.228701         1.829761 -1.563840   \n",
       "176   -1.270720   1.592131         -0.420888         1.786626 -1.520090   \n",
       "177    0.000731   0.065455          0.068316        -0.715222  0.186159   \n",
       "\n",
       "     OD280 315   Proline  \n",
       "0     1.842721  1.010159  \n",
       "1     0.448336 -0.037767  \n",
       "2     0.335659  0.946649  \n",
       "3     0.293405  1.692900  \n",
       "4     0.406082  1.819921  \n",
       "..         ...       ...  \n",
       "173  -0.974218 -0.371199  \n",
       "174  -1.481267  0.279786  \n",
       "175  -1.396759  0.295664  \n",
       "176  -1.424928 -0.593486  \n",
       "177   0.786369 -0.752263  \n",
       "\n",
       "[178 rows x 13 columns]"
      ]
     },
     "execution_count": 23,
     "metadata": {},
     "output_type": "execute_result"
    }
   ],
   "source": [
    "normalized_features = (wine_features - wine_features.mean()) / wine_features.std()\n",
    "normalized_features"
   ]
  },
  {
   "cell_type": "markdown",
   "id": "4f473b2b",
   "metadata": {},
   "source": [
    "#### (b) Given the initial categorization of the 178 wines into the 3 clusters according to Start assignment column in the dataset, determine the centroid of each of the three clusters. The centroid for this problem is a 13-D vector where each entry is the mean of a variable for the observations in that cluster.  ####"
   ]
  },
  {
   "cell_type": "code",
   "execution_count": 24,
   "id": "26a13f10",
   "metadata": {},
   "outputs": [
    {
     "data": {
      "text/plain": [
       "array([[-0.02624653, -0.02281371,  0.03909152, -0.01139289,  0.00119361,\n",
       "         0.04610228, -0.01445858, -0.09247727,  0.01529861, -0.12233484,\n",
       "         0.07195608, -0.02107247, -0.00108455],\n",
       "       [-0.03019892, -0.04315704, -0.11766091, -0.12232231, -0.18008643,\n",
       "        -0.1099961 , -0.04033264,  0.03549325, -0.14667323, -0.2178502 ,\n",
       "         0.08456967,  0.07759861, -0.08523904],\n",
       "       [ 0.05416451,  0.06343378,  0.07663419,  0.12914432,  0.17304706,\n",
       "         0.06255472,  0.05275776,  0.05359967,  0.12731805,  0.32702594,\n",
       "        -0.15021415, -0.05501827,  0.08347553]])"
      ]
     },
     "execution_count": 24,
     "metadata": {},
     "output_type": "execute_result"
    }
   ],
   "source": [
    "centroid = []\n",
    "for i in range(1, 4):\n",
    "    centroid.append(normalized_features[df['Start assignment'] == i].mean())\n",
    "centroid = np.array(centroid)\n",
    "centroid"
   ]
  },
  {
   "cell_type": "markdown",
   "id": "5e37cf75",
   "metadata": {},
   "source": [
    "#### (c) Given the centroid, determine the value of the cost function for this initial categorization. Check against the debugging output. ####\n",
    "\n",
    "$$ J(N, K)= \\sum_{i=1}^{N} \\sum_{j=1}^{K} w_{ij}d_{ij}^2 $$\n",
    "\n",
    "$$ w_{ij} = \n",
    "\\begin{cases}\n",
    "      1 & \\text{if point i is assigned to cluster j}\\\\\n",
    "      0 & \\text{otherwise}\\\\\n",
    "    \\end{cases}        , 1 \\leq i \\leq N and 1 \\leq j \\leq K $$"
   ]
  },
  {
   "cell_type": "code",
   "execution_count": 25,
   "id": "d9d807db",
   "metadata": {},
   "outputs": [],
   "source": [
    "def cost_function(centroid, normalized_features, ranks):\n",
    "    cost = 0\n",
    "    for i in range(len(normalized_features)):\n",
    "        if ranks[i] == 1:\n",
    "            cost += np.sum((normalized_features.iloc[i] - centroid[0]) ** 2)\n",
    "        elif ranks[i] == 2:\n",
    "            cost += np.sum((normalized_features.iloc[i] - centroid[1]) ** 2)\n",
    "        elif ranks[i] == 3:\n",
    "            cost += np.sum((normalized_features.iloc[i] - centroid[2]) ** 2)\n",
    "    return cost"
   ]
  },
  {
   "cell_type": "code",
   "execution_count": 26,
   "id": "5def8ff2",
   "metadata": {},
   "outputs": [
    {
     "data": {
      "text/plain": [
       "2275.34927819508"
      ]
     },
     "execution_count": 26,
     "metadata": {},
     "output_type": "execute_result"
    }
   ],
   "source": [
    "cost_function(centroid, normalized_features, df['Start assignment'])"
   ]
  },
  {
   "cell_type": "markdown",
   "id": "5596aa1b",
   "metadata": {},
   "source": [
    "#### (d) Fill in the blanks in the provided simulated annealing code. Use CSA with a visitation function in which a randomly chosen wine 𝑖 is moved from its present cluster 𝑗 to another randomly chosen cluster 𝑘 ≠𝑗. One epoch corresponds to attempting to move all 𝑁 wines between clusters, i.e. there are 𝑁 Metropolis steps, at each temperature. Use a start temperature of 500, and use a geometric cooling schedule(Tt+1=αTt)  with  α=0.999  and  total  of  5000  steps,  again  using  at  least  3  runs  of  CSA.  Check  your  final  temperature against  debugging  output.  Report  all  3  solutions  and  the  wine  members  as  part  of  each  cluster.  Validate your result using the provided code. How well is the assignment? ####"
   ]
  },
  {
   "cell_type": "code",
   "execution_count": 27,
   "id": "a2642966",
   "metadata": {},
   "outputs": [],
   "source": [
    "def simulated_annealing(feats, ranks, centers, start_temp, alpha, steps=5000):\n",
    "    \"\"\"Simulated annealing algorithm for clustering.\n",
    "    feats: pd.DataFrame, normalized features of wines\n",
    "    ranks: np.array shape(178,), initial assignment of wines to clusters\n",
    "    centers: np.array shape(3, 13), fixed centers of clusters\n",
    "    start_temp: float, initial temperature\n",
    "    alpha: float, hyperparameter for geometric cooling\n",
    "    steps: int, number of steps to run\n",
    "    \"\"\"\n",
    "    # initialize variables\n",
    "    temp = start_temp\n",
    "    best_rank = ranks.copy()\n",
    "    lowest_cost = cost_function(centers, feats, best_rank)\n",
    "    for step in (range(steps)):\n",
    "        temp *= alpha\n",
    "        if step % 500 == 0:\n",
    "            print(f'step: {step}, temp: {temp}, cost: {lowest_cost}')\n",
    "        for n in range(len(ranks)):\n",
    "            trial = ranks.copy()\n",
    "            rand_choice = np.random.randint(3)+1\n",
    "            trial[n] = rand_choice\n",
    "            # Metropolis acceptance criterion\n",
    "            if np.exp(-(lowest_cost - cost_function(centers, feats, trial))/temp) > np.random.random():\n",
    "                ranks = trial\n",
    "                new_eval = cost_function(centers, feats, ranks)\n",
    "                if new_eval < lowest_cost:\n",
    "                    lowest_cost = new_eval\n",
    "                    best_rank = ranks.copy()\n",
    "\n",
    "    return best_rank, lowest_cost\n"
   ]
  },
  {
   "cell_type": "markdown",
   "id": "f9f09956",
   "metadata": {},
   "source": [
    "#### (e) Adapt  your  code  in  2(d).  Now  use  CSA  with  a  visitation  function  in  which  a  randomly  chosen centroid 𝑗 is updated as a random walk for each of its 13 components  ####"
   ]
  },
  {
   "cell_type": "code",
   "execution_count": 28,
   "id": "3619a1af",
   "metadata": {},
   "outputs": [],
   "source": [
    "def simulated_annealing_edit(feats, ranks, centers, start_temp, alpha, delta, steps=5000):\n",
    "    \"\"\"Simulated annealing algorithm for clustering.\n",
    "    feats: pd.DataFrame, normalized features of wines\n",
    "    ranks: np.array shape(178,), initial assignment of wines to clusters\n",
    "    centers: np.array shape(3, 13), fixed centers of clusters\n",
    "    start_temp: float, initial temperature\n",
    "    alpha: float, hyperparameter for geometric cooling\n",
    "    steps: int, number of steps to run\n",
    "    \"\"\"\n",
    "    # initialize variables\n",
    "    temp = start_temp\n",
    "    best_rank = ranks.copy()\n",
    "    lowest_cost = cost_function(centers, feats, best_rank)\n",
    "    for step in (range(steps)):\n",
    "        temp *= alpha\n",
    "        if step % 500 == 0:\n",
    "            print(f'step: {step}, temp: {temp}, cost: {lowest_cost}')\n",
    "        for n in range(len(centers)):\n",
    "            trial = centers.copy()\n",
    "            trial[n]+=delta*(2*np.random.random()-1) \n",
    "            # Metropolis acceptance criterion\n",
    "            if np.exp((lowest_cost - cost_function(trial, feats, ranks)) / temp) > np.random.rand():\n",
    "                centers = trial\n",
    "                if cost_function(centers, feats, ranks) < lowest_cost:\n",
    "                    lowest_cost = cost_function(centers, feats, ranks)\n",
    "                    best_rank = ranks.copy()\n",
    "\n",
    "    return best_rank, lowest_cost"
   ]
  },
  {
   "cell_type": "code",
   "execution_count": null,
   "id": "731389d5",
   "metadata": {},
   "outputs": [],
   "source": [
    "simulated_annealing(normalized_features, df['Start assignment'], centroid, 500, 0.999)"
   ]
  }
 ],
 "metadata": {
  "kernelspec": {
   "display_name": "Python 3 (ipykernel)",
   "language": "python",
   "name": "python3"
  },
  "language_info": {
   "codemirror_mode": {
    "name": "ipython",
    "version": 3
   },
   "file_extension": ".py",
   "mimetype": "text/x-python",
   "name": "python",
   "nbconvert_exporter": "python",
   "pygments_lexer": "ipython3",
   "version": "3.9.13"
  }
 },
 "nbformat": 4,
 "nbformat_minor": 5
}
